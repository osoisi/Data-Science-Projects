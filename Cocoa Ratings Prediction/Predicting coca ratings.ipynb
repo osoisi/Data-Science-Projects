{
 "cells": [
  {
   "cell_type": "markdown",
   "metadata": {},
   "source": [
    "Source: https://www.kaggle.com/datasets/rtatman/chocolate-bar-ratings"
   ]
  },
  {
   "cell_type": "code",
   "execution_count": 1,
   "metadata": {},
   "outputs": [],
   "source": [
    "import pandas as pd\n",
    "import seaborn as sns\n",
    "import numpy as np\n",
    "from sklearn.model_selection import train_test_split\n",
    "from sklearn.linear_model import LinearRegression\n",
    "from sklearn.neighbors import KNeighborsRegressor\n",
    "from sklearn.tree import DecisionTreeRegressor\n",
    "from sklearn.ensemble import RandomForestRegressor, HistGradientBoostingRegressor\n",
    "from sklearn.metrics import r2_score, mean_squared_error\n",
    "from sklearn.preprocessing import OrdinalEncoder"
   ]
  },
  {
   "cell_type": "code",
   "execution_count": 2,
   "metadata": {},
   "outputs": [],
   "source": [
    "df = pd.read_csv(r'flavors_of_cacao.csv')"
   ]
  },
  {
   "cell_type": "code",
<<<<<<< HEAD
   "execution_count": 89,
=======
   "execution_count": 3,
>>>>>>> Test
   "metadata": {},
   "outputs": [
    {
     "data": {
      "text/plain": [
<<<<<<< HEAD
       "Makers               0\n",
       "Bean_Origin          0\n",
       "Cocoa_Percentage     0\n",
       "Company_Location     0\n",
       "Rating               0\n",
       "Broad_Bean_Origin    0\n",
       "dtype: int64"
      ]
     },
     "execution_count": 89,
=======
       "Company \\n(Maker-if known)           0\n",
       "Specific Bean Origin\\nor Bar Name    0\n",
       "REF                                  0\n",
       "Review\\nDate                         0\n",
       "Cocoa\\nPercent                       0\n",
       "Company\\nLocation                    0\n",
       "Rating                               0\n",
       "Bean\\nType                           1\n",
       "Broad Bean\\nOrigin                   1\n",
       "dtype: int64"
      ]
     },
     "execution_count": 3,
>>>>>>> Test
     "metadata": {},
     "output_type": "execute_result"
    }
   ],
   "source": [
    "df.isnull().sum()"
   ]
  },
  {
   "cell_type": "code",
<<<<<<< HEAD
   "execution_count": 3,
=======
   "execution_count": 4,
>>>>>>> Test
   "metadata": {},
   "outputs": [
    {
     "data": {
      "text/html": [
       "<div>\n",
       "<style scoped>\n",
       "    .dataframe tbody tr th:only-of-type {\n",
       "        vertical-align: middle;\n",
       "    }\n",
       "\n",
       "    .dataframe tbody tr th {\n",
       "        vertical-align: top;\n",
       "    }\n",
       "\n",
       "    .dataframe thead th {\n",
       "        text-align: right;\n",
       "    }\n",
       "</style>\n",
       "<table border=\"1\" class=\"dataframe\">\n",
       "  <thead>\n",
       "    <tr style=\"text-align: right;\">\n",
       "      <th></th>\n",
       "      <th>Company \\n(Maker-if known)</th>\n",
       "      <th>Specific Bean Origin\\nor Bar Name</th>\n",
       "      <th>REF</th>\n",
       "      <th>Review\\nDate</th>\n",
       "      <th>Cocoa\\nPercent</th>\n",
       "      <th>Company\\nLocation</th>\n",
       "      <th>Rating</th>\n",
       "      <th>Bean\\nType</th>\n",
       "      <th>Broad Bean\\nOrigin</th>\n",
       "    </tr>\n",
       "  </thead>\n",
       "  <tbody>\n",
       "    <tr>\n",
       "      <th>0</th>\n",
       "      <td>A. Morin</td>\n",
       "      <td>Agua Grande</td>\n",
       "      <td>1876</td>\n",
       "      <td>2016</td>\n",
       "      <td>63%</td>\n",
       "      <td>France</td>\n",
       "      <td>3.75</td>\n",
       "      <td></td>\n",
       "      <td>Sao Tome</td>\n",
       "    </tr>\n",
       "    <tr>\n",
       "      <th>1</th>\n",
       "      <td>A. Morin</td>\n",
       "      <td>Kpime</td>\n",
       "      <td>1676</td>\n",
       "      <td>2015</td>\n",
       "      <td>70%</td>\n",
       "      <td>France</td>\n",
       "      <td>2.75</td>\n",
       "      <td></td>\n",
       "      <td>Togo</td>\n",
       "    </tr>\n",
       "    <tr>\n",
       "      <th>2</th>\n",
       "      <td>A. Morin</td>\n",
       "      <td>Atsane</td>\n",
       "      <td>1676</td>\n",
       "      <td>2015</td>\n",
       "      <td>70%</td>\n",
       "      <td>France</td>\n",
       "      <td>3.00</td>\n",
       "      <td></td>\n",
       "      <td>Togo</td>\n",
       "    </tr>\n",
       "    <tr>\n",
       "      <th>3</th>\n",
       "      <td>A. Morin</td>\n",
       "      <td>Akata</td>\n",
       "      <td>1680</td>\n",
       "      <td>2015</td>\n",
       "      <td>70%</td>\n",
       "      <td>France</td>\n",
       "      <td>3.50</td>\n",
       "      <td></td>\n",
       "      <td>Togo</td>\n",
       "    </tr>\n",
       "    <tr>\n",
       "      <th>4</th>\n",
       "      <td>A. Morin</td>\n",
       "      <td>Quilla</td>\n",
       "      <td>1704</td>\n",
       "      <td>2015</td>\n",
       "      <td>70%</td>\n",
       "      <td>France</td>\n",
       "      <td>3.50</td>\n",
       "      <td></td>\n",
       "      <td>Peru</td>\n",
       "    </tr>\n",
       "  </tbody>\n",
       "</table>\n",
       "</div>"
      ],
      "text/plain": [
       "  Company \\n(Maker-if known) Specific Bean Origin\\nor Bar Name   REF  \\\n",
       "0                   A. Morin                       Agua Grande  1876   \n",
       "1                   A. Morin                             Kpime  1676   \n",
       "2                   A. Morin                            Atsane  1676   \n",
       "3                   A. Morin                             Akata  1680   \n",
       "4                   A. Morin                            Quilla  1704   \n",
       "\n",
       "   Review\\nDate Cocoa\\nPercent Company\\nLocation  Rating Bean\\nType  \\\n",
       "0          2016            63%            France    3.75              \n",
       "1          2015            70%            France    2.75              \n",
       "2          2015            70%            France    3.00              \n",
       "3          2015            70%            France    3.50              \n",
       "4          2015            70%            France    3.50              \n",
       "\n",
       "  Broad Bean\\nOrigin  \n",
       "0           Sao Tome  \n",
       "1               Togo  \n",
       "2               Togo  \n",
       "3               Togo  \n",
       "4               Peru  "
      ]
     },
<<<<<<< HEAD
     "execution_count": 3,
=======
     "execution_count": 4,
>>>>>>> Test
     "metadata": {},
     "output_type": "execute_result"
    }
   ],
   "source": [
    "df.head()"
   ]
  },
  {
   "cell_type": "code",
<<<<<<< HEAD
   "execution_count": 4,
=======
   "execution_count": 5,
>>>>>>> Test
   "metadata": {},
   "outputs": [],
   "source": [
    "df.rename(columns={'Broad Bean\\nOrigin': 'Broad_Bean_Origin'}, inplace=True)\n",
    "df.rename(columns={\"Company '\\n'(Maker-if known)\": 'Maker'}, inplace=True)\n",
    "df.rename(columns={'Specific Bean Origin\\nor Bar Name': 'Bean Origin'}, inplace=True)\n",
    "df.rename(columns={'Cocoa\\nPercent': 'CocoaPercentage'}, inplace=True)"
   ]
  },
  {
   "cell_type": "code",
<<<<<<< HEAD
   "execution_count": 5,
=======
   "execution_count": 6,
>>>>>>> Test
   "metadata": {},
   "outputs": [
    {
     "data": {
      "text/html": [
       "<div>\n",
       "<style scoped>\n",
       "    .dataframe tbody tr th:only-of-type {\n",
       "        vertical-align: middle;\n",
       "    }\n",
       "\n",
       "    .dataframe tbody tr th {\n",
       "        vertical-align: top;\n",
       "    }\n",
       "\n",
       "    .dataframe thead th {\n",
       "        text-align: right;\n",
       "    }\n",
       "</style>\n",
       "<table border=\"1\" class=\"dataframe\">\n",
       "  <thead>\n",
       "    <tr style=\"text-align: right;\">\n",
       "      <th></th>\n",
       "      <th>Company \\n(Maker-if known)</th>\n",
       "      <th>Bean Origin</th>\n",
       "      <th>REF</th>\n",
       "      <th>Review\\nDate</th>\n",
       "      <th>CocoaPercentage</th>\n",
       "      <th>Company\\nLocation</th>\n",
       "      <th>Rating</th>\n",
       "      <th>Bean\\nType</th>\n",
       "      <th>Broad_Bean_Origin</th>\n",
       "    </tr>\n",
       "  </thead>\n",
       "  <tbody>\n",
       "    <tr>\n",
       "      <th>0</th>\n",
       "      <td>A. Morin</td>\n",
       "      <td>Agua Grande</td>\n",
       "      <td>1876</td>\n",
       "      <td>2016</td>\n",
       "      <td>63%</td>\n",
       "      <td>France</td>\n",
       "      <td>3.75</td>\n",
       "      <td></td>\n",
       "      <td>Sao Tome</td>\n",
       "    </tr>\n",
       "    <tr>\n",
       "      <th>1</th>\n",
       "      <td>A. Morin</td>\n",
       "      <td>Kpime</td>\n",
       "      <td>1676</td>\n",
       "      <td>2015</td>\n",
       "      <td>70%</td>\n",
       "      <td>France</td>\n",
       "      <td>2.75</td>\n",
       "      <td></td>\n",
       "      <td>Togo</td>\n",
       "    </tr>\n",
       "    <tr>\n",
       "      <th>2</th>\n",
       "      <td>A. Morin</td>\n",
       "      <td>Atsane</td>\n",
       "      <td>1676</td>\n",
       "      <td>2015</td>\n",
       "      <td>70%</td>\n",
       "      <td>France</td>\n",
       "      <td>3.00</td>\n",
       "      <td></td>\n",
       "      <td>Togo</td>\n",
       "    </tr>\n",
       "    <tr>\n",
       "      <th>3</th>\n",
       "      <td>A. Morin</td>\n",
       "      <td>Akata</td>\n",
       "      <td>1680</td>\n",
       "      <td>2015</td>\n",
       "      <td>70%</td>\n",
       "      <td>France</td>\n",
       "      <td>3.50</td>\n",
       "      <td></td>\n",
       "      <td>Togo</td>\n",
       "    </tr>\n",
       "    <tr>\n",
       "      <th>4</th>\n",
       "      <td>A. Morin</td>\n",
       "      <td>Quilla</td>\n",
       "      <td>1704</td>\n",
       "      <td>2015</td>\n",
       "      <td>70%</td>\n",
       "      <td>France</td>\n",
       "      <td>3.50</td>\n",
       "      <td></td>\n",
       "      <td>Peru</td>\n",
       "    </tr>\n",
       "  </tbody>\n",
       "</table>\n",
       "</div>"
      ],
      "text/plain": [
       "  Company \\n(Maker-if known)  Bean Origin   REF  Review\\nDate CocoaPercentage  \\\n",
       "0                   A. Morin  Agua Grande  1876          2016             63%   \n",
       "1                   A. Morin        Kpime  1676          2015             70%   \n",
       "2                   A. Morin       Atsane  1676          2015             70%   \n",
       "3                   A. Morin        Akata  1680          2015             70%   \n",
       "4                   A. Morin       Quilla  1704          2015             70%   \n",
       "\n",
       "  Company\\nLocation  Rating Bean\\nType Broad_Bean_Origin  \n",
       "0            France    3.75                     Sao Tome  \n",
       "1            France    2.75                         Togo  \n",
       "2            France    3.00                         Togo  \n",
       "3            France    3.50                         Togo  \n",
       "4            France    3.50                         Peru  "
      ]
     },
<<<<<<< HEAD
     "execution_count": 5,
=======
     "execution_count": 6,
>>>>>>> Test
     "metadata": {},
     "output_type": "execute_result"
    }
   ],
   "source": [
    "df.head()"
   ]
  },
  {
   "cell_type": "code",
<<<<<<< HEAD
   "execution_count": 6,
=======
   "execution_count": 7,
>>>>>>> Test
   "metadata": {},
   "outputs": [],
   "source": [
    "df.columns = df.columns.str.replace('\\n', ' ')"
   ]
  },
  {
   "cell_type": "code",
<<<<<<< HEAD
   "execution_count": 7,
=======
   "execution_count": 8,
>>>>>>> Test
   "metadata": {},
   "outputs": [],
   "source": [
    "df.columns = df.columns.str.replace(')', '')\n",
    "df.columns = df.columns.str.replace('(', '')\n",
    "df.columns = df.columns.str.replace('-', '')"
   ]
  },
  {
   "cell_type": "code",
<<<<<<< HEAD
   "execution_count": 8,
=======
   "execution_count": 9,
>>>>>>> Test
   "metadata": {},
   "outputs": [
    {
     "data": {
      "text/html": [
       "<div>\n",
       "<style scoped>\n",
       "    .dataframe tbody tr th:only-of-type {\n",
       "        vertical-align: middle;\n",
       "    }\n",
       "\n",
       "    .dataframe tbody tr th {\n",
       "        vertical-align: top;\n",
       "    }\n",
       "\n",
       "    .dataframe thead th {\n",
       "        text-align: right;\n",
       "    }\n",
       "</style>\n",
       "<table border=\"1\" class=\"dataframe\">\n",
       "  <thead>\n",
       "    <tr style=\"text-align: right;\">\n",
       "      <th></th>\n",
       "      <th>Company  Makerif known</th>\n",
       "      <th>Bean Origin</th>\n",
       "      <th>REF</th>\n",
       "      <th>Review Date</th>\n",
       "      <th>CocoaPercentage</th>\n",
       "      <th>Company Location</th>\n",
       "      <th>Rating</th>\n",
       "      <th>Bean Type</th>\n",
       "      <th>Broad_Bean_Origin</th>\n",
       "    </tr>\n",
       "  </thead>\n",
       "  <tbody>\n",
       "    <tr>\n",
       "      <th>0</th>\n",
       "      <td>A. Morin</td>\n",
       "      <td>Agua Grande</td>\n",
       "      <td>1876</td>\n",
       "      <td>2016</td>\n",
       "      <td>63%</td>\n",
       "      <td>France</td>\n",
       "      <td>3.75</td>\n",
       "      <td></td>\n",
       "      <td>Sao Tome</td>\n",
       "    </tr>\n",
       "    <tr>\n",
       "      <th>1</th>\n",
       "      <td>A. Morin</td>\n",
       "      <td>Kpime</td>\n",
       "      <td>1676</td>\n",
       "      <td>2015</td>\n",
       "      <td>70%</td>\n",
       "      <td>France</td>\n",
       "      <td>2.75</td>\n",
       "      <td></td>\n",
       "      <td>Togo</td>\n",
       "    </tr>\n",
       "    <tr>\n",
       "      <th>2</th>\n",
       "      <td>A. Morin</td>\n",
       "      <td>Atsane</td>\n",
       "      <td>1676</td>\n",
       "      <td>2015</td>\n",
       "      <td>70%</td>\n",
       "      <td>France</td>\n",
       "      <td>3.00</td>\n",
       "      <td></td>\n",
       "      <td>Togo</td>\n",
       "    </tr>\n",
       "    <tr>\n",
       "      <th>3</th>\n",
       "      <td>A. Morin</td>\n",
       "      <td>Akata</td>\n",
       "      <td>1680</td>\n",
       "      <td>2015</td>\n",
       "      <td>70%</td>\n",
       "      <td>France</td>\n",
       "      <td>3.50</td>\n",
       "      <td></td>\n",
       "      <td>Togo</td>\n",
       "    </tr>\n",
       "    <tr>\n",
       "      <th>4</th>\n",
       "      <td>A. Morin</td>\n",
       "      <td>Quilla</td>\n",
       "      <td>1704</td>\n",
       "      <td>2015</td>\n",
       "      <td>70%</td>\n",
       "      <td>France</td>\n",
       "      <td>3.50</td>\n",
       "      <td></td>\n",
       "      <td>Peru</td>\n",
       "    </tr>\n",
       "  </tbody>\n",
       "</table>\n",
       "</div>"
      ],
      "text/plain": [
       "  Company  Makerif known  Bean Origin   REF  Review Date CocoaPercentage  \\\n",
       "0               A. Morin  Agua Grande  1876         2016             63%   \n",
       "1               A. Morin        Kpime  1676         2015             70%   \n",
       "2               A. Morin       Atsane  1676         2015             70%   \n",
       "3               A. Morin        Akata  1680         2015             70%   \n",
       "4               A. Morin       Quilla  1704         2015             70%   \n",
       "\n",
       "  Company Location  Rating Bean Type Broad_Bean_Origin  \n",
       "0           France    3.75                    Sao Tome  \n",
       "1           France    2.75                        Togo  \n",
       "2           France    3.00                        Togo  \n",
       "3           France    3.50                        Togo  \n",
       "4           France    3.50                        Peru  "
      ]
     },
<<<<<<< HEAD
     "execution_count": 8,
=======
     "execution_count": 9,
>>>>>>> Test
     "metadata": {},
     "output_type": "execute_result"
    }
   ],
   "source": [
    "df.head()"
   ]
  },
  {
   "cell_type": "code",
<<<<<<< HEAD
   "execution_count": 9,
=======
   "execution_count": 10,
>>>>>>> Test
   "metadata": {},
   "outputs": [],
   "source": [
    "df.rename(columns={'Company  Makerif known': 'Maker'}, inplace=True)\n",
    "df.rename(columns={'Bean Origin': 'Bean_Origin'}, inplace=True)\n",
    "df.rename(columns={'CocoaPercentage': 'Cocoa_Percentage'}, inplace=True)\n",
    "df.rename(columns={'Company Location': 'Company_Location'}, inplace=True)"
   ]
  },
  {
   "cell_type": "code",
<<<<<<< HEAD
   "execution_count": 10,
=======
   "execution_count": 11,
>>>>>>> Test
   "metadata": {},
   "outputs": [
    {
     "name": "stdout",
     "output_type": "stream",
     "text": [
      "<class 'pandas.core.frame.DataFrame'>\n",
      "RangeIndex: 1795 entries, 0 to 1794\n",
      "Data columns (total 9 columns):\n",
      " #   Column                  Non-Null Count  Dtype  \n",
      "---  ------                  --------------  -----  \n",
      " 0   Company  Makerif known  1795 non-null   object \n",
      " 1   Bean_Origin             1795 non-null   object \n",
      " 2   REF                     1795 non-null   int64  \n",
      " 3   Review Date             1795 non-null   int64  \n",
      " 4   Cocoa_Percentage        1795 non-null   object \n",
      " 5   Company_Location        1795 non-null   object \n",
      " 6   Rating                  1795 non-null   float64\n",
      " 7   Bean Type               1794 non-null   object \n",
      " 8   Broad_Bean_Origin       1794 non-null   object \n",
      "dtypes: float64(1), int64(2), object(6)\n",
      "memory usage: 126.3+ KB\n"
     ]
    }
   ],
   "source": [
    "df.info()"
   ]
  },
  {
   "cell_type": "code",
<<<<<<< HEAD
   "execution_count": 11,
=======
   "execution_count": 12,
>>>>>>> Test
   "metadata": {},
   "outputs": [
    {
     "data": {
      "text/html": [
       "<div>\n",
       "<style scoped>\n",
       "    .dataframe tbody tr th:only-of-type {\n",
       "        vertical-align: middle;\n",
       "    }\n",
       "\n",
       "    .dataframe tbody tr th {\n",
       "        vertical-align: top;\n",
       "    }\n",
       "\n",
       "    .dataframe thead th {\n",
       "        text-align: right;\n",
       "    }\n",
       "</style>\n",
       "<table border=\"1\" class=\"dataframe\">\n",
       "  <thead>\n",
       "    <tr style=\"text-align: right;\">\n",
       "      <th></th>\n",
       "      <th>Company  Makerif known</th>\n",
       "      <th>Bean_Origin</th>\n",
       "      <th>REF</th>\n",
       "      <th>Review Date</th>\n",
       "      <th>Cocoa_Percentage</th>\n",
       "      <th>Company_Location</th>\n",
       "      <th>Rating</th>\n",
       "      <th>Bean Type</th>\n",
       "      <th>Broad_Bean_Origin</th>\n",
       "    </tr>\n",
       "  </thead>\n",
       "  <tbody>\n",
       "    <tr>\n",
       "      <th>0</th>\n",
       "      <td>A. Morin</td>\n",
       "      <td>Agua Grande</td>\n",
       "      <td>1876</td>\n",
       "      <td>2016</td>\n",
       "      <td>63%</td>\n",
       "      <td>France</td>\n",
       "      <td>3.75</td>\n",
       "      <td></td>\n",
       "      <td>Sao Tome</td>\n",
       "    </tr>\n",
       "    <tr>\n",
       "      <th>1</th>\n",
       "      <td>A. Morin</td>\n",
       "      <td>Kpime</td>\n",
       "      <td>1676</td>\n",
       "      <td>2015</td>\n",
       "      <td>70%</td>\n",
       "      <td>France</td>\n",
       "      <td>2.75</td>\n",
       "      <td></td>\n",
       "      <td>Togo</td>\n",
       "    </tr>\n",
       "    <tr>\n",
       "      <th>2</th>\n",
       "      <td>A. Morin</td>\n",
       "      <td>Atsane</td>\n",
       "      <td>1676</td>\n",
       "      <td>2015</td>\n",
       "      <td>70%</td>\n",
       "      <td>France</td>\n",
       "      <td>3.00</td>\n",
       "      <td></td>\n",
       "      <td>Togo</td>\n",
       "    </tr>\n",
       "    <tr>\n",
       "      <th>3</th>\n",
       "      <td>A. Morin</td>\n",
       "      <td>Akata</td>\n",
       "      <td>1680</td>\n",
       "      <td>2015</td>\n",
       "      <td>70%</td>\n",
       "      <td>France</td>\n",
       "      <td>3.50</td>\n",
       "      <td></td>\n",
       "      <td>Togo</td>\n",
       "    </tr>\n",
       "    <tr>\n",
       "      <th>4</th>\n",
       "      <td>A. Morin</td>\n",
       "      <td>Quilla</td>\n",
       "      <td>1704</td>\n",
       "      <td>2015</td>\n",
       "      <td>70%</td>\n",
       "      <td>France</td>\n",
       "      <td>3.50</td>\n",
       "      <td></td>\n",
       "      <td>Peru</td>\n",
       "    </tr>\n",
       "  </tbody>\n",
       "</table>\n",
       "</div>"
      ],
      "text/plain": [
       "  Company  Makerif known  Bean_Origin   REF  Review Date Cocoa_Percentage  \\\n",
       "0               A. Morin  Agua Grande  1876         2016              63%   \n",
       "1               A. Morin        Kpime  1676         2015              70%   \n",
       "2               A. Morin       Atsane  1676         2015              70%   \n",
       "3               A. Morin        Akata  1680         2015              70%   \n",
       "4               A. Morin       Quilla  1704         2015              70%   \n",
       "\n",
       "  Company_Location  Rating Bean Type Broad_Bean_Origin  \n",
       "0           France    3.75                    Sao Tome  \n",
       "1           France    2.75                        Togo  \n",
       "2           France    3.00                        Togo  \n",
       "3           France    3.50                        Togo  \n",
       "4           France    3.50                        Peru  "
      ]
     },
<<<<<<< HEAD
     "execution_count": 11,
=======
     "execution_count": 12,
>>>>>>> Test
     "metadata": {},
     "output_type": "execute_result"
    }
   ],
   "source": [
    "df.head()"
   ]
  },
  {
   "cell_type": "code",
<<<<<<< HEAD
   "execution_count": 12,
=======
   "execution_count": 13,
>>>>>>> Test
   "metadata": {},
   "outputs": [
    {
     "data": {
      "text/plain": [
       "Index(['Company  Makerif known', 'Bean_Origin', 'REF', 'Review Date',\n",
       "       'Cocoa_Percentage', 'Company_Location', 'Rating', 'Bean Type',\n",
       "       'Broad_Bean_Origin'],\n",
       "      dtype='object')"
      ]
     },
<<<<<<< HEAD
     "execution_count": 12,
=======
     "execution_count": 13,
>>>>>>> Test
     "metadata": {},
     "output_type": "execute_result"
    }
   ],
   "source": [
    "df.columns"
   ]
  },
  {
   "cell_type": "code",
<<<<<<< HEAD
   "execution_count": 13,
   "metadata": {},
   "outputs": [],
   "source": [
    "df = df.rename(columns={'Company  Makerif known': 'Maker'})"
   ]
  },
  {
   "cell_type": "code",
   "execution_count": 14,
   "metadata": {},
   "outputs": [
    {
     "data": {
      "text/plain": [
       "Index(['Company  Makerif known', 'Bean_Origin', 'REF', 'Review Date',\n",
       "       'Cocoa_Percentage', 'Company_Location', 'Rating', 'Bean Type',\n",
       "       'Broad_Bean_Origin'],\n",
       "      dtype='object')"
      ]
     },
     "execution_count": 14,
     "metadata": {},
     "output_type": "execute_result"
    }
   ],
   "source": [
    "df.columns"
=======
   "execution_count": 14,
   "metadata": {},
   "outputs": [],
   "source": [
    "df = df.rename(columns={'Company  Makerif known': 'Maker'})"
>>>>>>> Test
   ]
  },
  {
   "cell_type": "code",
   "execution_count": 15,
   "metadata": {},
   "outputs": [
    {
     "data": {
      "text/plain": [
<<<<<<< HEAD
       "Index(['Company  Makerif known'], dtype='object')"
=======
       "Index(['Company  Makerif known', 'Bean_Origin', 'REF', 'Review Date',\n",
       "       'Cocoa_Percentage', 'Company_Location', 'Rating', 'Bean Type',\n",
       "       'Broad_Bean_Origin'],\n",
       "      dtype='object')"
>>>>>>> Test
      ]
     },
     "execution_count": 15,
     "metadata": {},
     "output_type": "execute_result"
    }
   ],
   "source": [
<<<<<<< HEAD
=======
    "df.columns"
   ]
  },
  {
   "cell_type": "code",
   "execution_count": 16,
   "metadata": {},
   "outputs": [
    {
     "data": {
      "text/plain": [
       "Index(['Company  Makerif known'], dtype='object')"
      ]
     },
     "execution_count": 16,
     "metadata": {},
     "output_type": "execute_result"
    }
   ],
   "source": [
>>>>>>> Test
    "df.filter(like='known', axis=1).columns"
   ]
  },
  {
   "cell_type": "code",
<<<<<<< HEAD
   "execution_count": 16,
=======
   "execution_count": 17,
>>>>>>> Test
   "metadata": {},
   "outputs": [],
   "source": [
    "columns_to_replace = df.filter(like='known', axis=1).columns\n",
    "new_column_names = {col: 'Makers' for col in columns_to_replace}\n",
    "df.rename(columns=new_column_names, inplace=True)"
   ]
  },
  {
   "cell_type": "code",
<<<<<<< HEAD
   "execution_count": 17,
=======
   "execution_count": 18,
>>>>>>> Test
   "metadata": {},
   "outputs": [],
   "source": [
    "df=df.dropna()"
   ]
  },
  {
   "cell_type": "code",
<<<<<<< HEAD
   "execution_count": 18,
=======
   "execution_count": 19,
>>>>>>> Test
   "metadata": {},
   "outputs": [
    {
     "data": {
      "text/html": [
       "<div>\n",
       "<style scoped>\n",
       "    .dataframe tbody tr th:only-of-type {\n",
       "        vertical-align: middle;\n",
       "    }\n",
       "\n",
       "    .dataframe tbody tr th {\n",
       "        vertical-align: top;\n",
       "    }\n",
       "\n",
       "    .dataframe thead th {\n",
       "        text-align: right;\n",
       "    }\n",
       "</style>\n",
       "<table border=\"1\" class=\"dataframe\">\n",
       "  <thead>\n",
       "    <tr style=\"text-align: right;\">\n",
       "      <th></th>\n",
       "      <th>Makers</th>\n",
       "      <th>Bean_Origin</th>\n",
       "      <th>REF</th>\n",
       "      <th>Review Date</th>\n",
       "      <th>Cocoa_Percentage</th>\n",
       "      <th>Company_Location</th>\n",
       "      <th>Rating</th>\n",
       "      <th>Bean Type</th>\n",
       "      <th>Broad_Bean_Origin</th>\n",
       "    </tr>\n",
       "  </thead>\n",
       "  <tbody>\n",
       "    <tr>\n",
       "      <th>0</th>\n",
       "      <td>A. Morin</td>\n",
       "      <td>Agua Grande</td>\n",
       "      <td>1876</td>\n",
       "      <td>2016</td>\n",
       "      <td>63%</td>\n",
       "      <td>France</td>\n",
       "      <td>3.75</td>\n",
       "      <td></td>\n",
       "      <td>Sao Tome</td>\n",
       "    </tr>\n",
       "    <tr>\n",
       "      <th>1</th>\n",
       "      <td>A. Morin</td>\n",
       "      <td>Kpime</td>\n",
       "      <td>1676</td>\n",
       "      <td>2015</td>\n",
       "      <td>70%</td>\n",
       "      <td>France</td>\n",
       "      <td>2.75</td>\n",
       "      <td></td>\n",
       "      <td>Togo</td>\n",
       "    </tr>\n",
       "    <tr>\n",
       "      <th>2</th>\n",
       "      <td>A. Morin</td>\n",
       "      <td>Atsane</td>\n",
       "      <td>1676</td>\n",
       "      <td>2015</td>\n",
       "      <td>70%</td>\n",
       "      <td>France</td>\n",
       "      <td>3.00</td>\n",
       "      <td></td>\n",
       "      <td>Togo</td>\n",
       "    </tr>\n",
       "    <tr>\n",
       "      <th>3</th>\n",
       "      <td>A. Morin</td>\n",
       "      <td>Akata</td>\n",
       "      <td>1680</td>\n",
       "      <td>2015</td>\n",
       "      <td>70%</td>\n",
       "      <td>France</td>\n",
       "      <td>3.50</td>\n",
       "      <td></td>\n",
       "      <td>Togo</td>\n",
       "    </tr>\n",
       "    <tr>\n",
       "      <th>4</th>\n",
       "      <td>A. Morin</td>\n",
       "      <td>Quilla</td>\n",
       "      <td>1704</td>\n",
       "      <td>2015</td>\n",
       "      <td>70%</td>\n",
       "      <td>France</td>\n",
       "      <td>3.50</td>\n",
       "      <td></td>\n",
       "      <td>Peru</td>\n",
       "    </tr>\n",
       "  </tbody>\n",
       "</table>\n",
       "</div>"
      ],
      "text/plain": [
       "     Makers  Bean_Origin   REF  Review Date Cocoa_Percentage Company_Location  \\\n",
       "0  A. Morin  Agua Grande  1876         2016              63%           France   \n",
       "1  A. Morin        Kpime  1676         2015              70%           France   \n",
       "2  A. Morin       Atsane  1676         2015              70%           France   \n",
       "3  A. Morin        Akata  1680         2015              70%           France   \n",
       "4  A. Morin       Quilla  1704         2015              70%           France   \n",
       "\n",
       "   Rating Bean Type Broad_Bean_Origin  \n",
       "0    3.75                    Sao Tome  \n",
       "1    2.75                        Togo  \n",
       "2    3.00                        Togo  \n",
       "3    3.50                        Togo  \n",
       "4    3.50                        Peru  "
      ]
     },
<<<<<<< HEAD
     "execution_count": 18,
=======
     "execution_count": 19,
>>>>>>> Test
     "metadata": {},
     "output_type": "execute_result"
    }
   ],
   "source": [
    "df.head()"
   ]
  },
  {
   "cell_type": "code",
<<<<<<< HEAD
   "execution_count": 19,
=======
   "execution_count": 20,
>>>>>>> Test
   "metadata": {},
   "outputs": [
    {
     "data": {
      "text/plain": [
       "Makers               0\n",
       "Bean_Origin          0\n",
       "REF                  0\n",
       "Review Date          0\n",
       "Cocoa_Percentage     0\n",
       "Company_Location     0\n",
       "Rating               0\n",
       "Bean Type            0\n",
       "Broad_Bean_Origin    0\n",
       "dtype: int64"
      ]
     },
<<<<<<< HEAD
     "execution_count": 19,
=======
     "execution_count": 20,
>>>>>>> Test
     "metadata": {},
     "output_type": "execute_result"
    }
   ],
   "source": [
    "df.isnull().sum()"
   ]
  },
  {
   "cell_type": "code",
<<<<<<< HEAD
   "execution_count": 20,
=======
   "execution_count": 21,
>>>>>>> Test
   "metadata": {},
   "outputs": [],
   "source": [
    "df=df.drop(columns=['Bean Type', 'REF', 'Review Date'])"
   ]
  },
  {
   "cell_type": "code",
<<<<<<< HEAD
   "execution_count": 21,
=======
   "execution_count": 22,
>>>>>>> Test
   "metadata": {},
   "outputs": [
    {
     "data": {
      "text/plain": [
       "Broad_Bean_Origin\n",
       "Venezuela                214\n",
       "Ecuador                  193\n",
       "Peru                     165\n",
       "Madagascar               145\n",
       "Dominican Republic       141\n",
       "                        ... \n",
       "Nigeria                    1\n",
       "Peru, Belize               1\n",
       "Peru, Mad., Dom. Rep.      1\n",
       "PNG, Vanuatu, Mad          1\n",
       "Venezuela, Carribean       1\n",
       "Name: count, Length: 99, dtype: int64"
      ]
     },
<<<<<<< HEAD
     "execution_count": 21,
=======
     "execution_count": 22,
>>>>>>> Test
     "metadata": {},
     "output_type": "execute_result"
    }
   ],
   "source": [
    "df['Broad_Bean_Origin'].value_counts()"
   ]
  },
  {
   "cell_type": "code",
<<<<<<< HEAD
   "execution_count": 22,
=======
   "execution_count": 23,
>>>>>>> Test
   "metadata": {},
   "outputs": [],
   "source": [
    "value_counts = df['Broad_Bean_Origin'].value_counts()\n",
    "less_known_origins = value_counts[value_counts < 10].index\n",
    "df['Broad_Bean_Origin'] = df['Broad_Bean_Origin'].apply(lambda x: 'Less Known' if x in less_known_origins else x)"
   ]
  },
  {
   "cell_type": "code",
<<<<<<< HEAD
   "execution_count": 23,
=======
   "execution_count": 24,
>>>>>>> Test
   "metadata": {},
   "outputs": [
    {
     "data": {
      "text/plain": [
       "Broad_Bean_Origin\n",
       "Venezuela             214\n",
       "Ecuador               193\n",
       "Less Known            168\n",
       "Peru                  165\n",
       "Madagascar            145\n",
       "Dominican Republic    141\n",
       "                       73\n",
       "Nicaragua              60\n",
       "Brazil                 58\n",
       "Bolivia                57\n",
       "Belize                 49\n",
       "Papua New Guinea       42\n",
       "Colombia               40\n",
       "Costa Rica             38\n",
       "Vietnam                38\n",
       "Tanzania               34\n",
       "Trinidad               33\n",
       "Ghana                  33\n",
       "Mexico                 30\n",
       "Guatemala              28\n",
       "Hawaii                 28\n",
       "Domincan Republic      25\n",
       "Jamaica                20\n",
       "Grenada                19\n",
       "Indonesia              16\n",
       "Honduras               15\n",
       "Cuba                   11\n",
       "Congo                  10\n",
       "Sao Tome               10\n",
       "Name: count, dtype: int64"
      ]
     },
<<<<<<< HEAD
     "execution_count": 23,
=======
     "execution_count": 24,
>>>>>>> Test
     "metadata": {},
     "output_type": "execute_result"
    }
   ],
   "source": [
    "df['Broad_Bean_Origin'].value_counts()"
   ]
  },
  {
   "cell_type": "code",
<<<<<<< HEAD
   "execution_count": 24,
=======
   "execution_count": 25,
>>>>>>> Test
   "metadata": {},
   "outputs": [],
   "source": [
    "unique_items_bbo = df['Broad_Bean_Origin'].unique()\n",
    "Broad_Bean_Origin_df = sorted(unique_items_bbo)\n",
    "Broad_Bean_Origin_df= pd.DataFrame(Broad_Bean_Origin_df, columns=['Broad_Bean_Origin'])"
   ]
  },
  {
   "cell_type": "code",
<<<<<<< HEAD
   "execution_count": 25,
=======
   "execution_count": 26,
>>>>>>> Test
   "metadata": {},
   "outputs": [
    {
     "data": {
      "text/html": [
       "<div>\n",
       "<style scoped>\n",
       "    .dataframe tbody tr th:only-of-type {\n",
       "        vertical-align: middle;\n",
       "    }\n",
       "\n",
       "    .dataframe tbody tr th {\n",
       "        vertical-align: top;\n",
       "    }\n",
       "\n",
       "    .dataframe thead th {\n",
       "        text-align: right;\n",
       "    }\n",
       "</style>\n",
       "<table border=\"1\" class=\"dataframe\">\n",
       "  <thead>\n",
       "    <tr style=\"text-align: right;\">\n",
       "      <th></th>\n",
       "      <th>Broad_Bean_Origin</th>\n",
       "    </tr>\n",
       "  </thead>\n",
       "  <tbody>\n",
       "    <tr>\n",
       "      <th>0</th>\n",
       "      <td>Belize</td>\n",
       "    </tr>\n",
       "    <tr>\n",
       "      <th>1</th>\n",
       "      <td>Bolivia</td>\n",
       "    </tr>\n",
       "    <tr>\n",
       "      <th>2</th>\n",
       "      <td>Brazil</td>\n",
       "    </tr>\n",
       "    <tr>\n",
       "      <th>3</th>\n",
       "      <td>Colombia</td>\n",
       "    </tr>\n",
       "    <tr>\n",
       "      <th>4</th>\n",
       "      <td>Congo</td>\n",
       "    </tr>\n",
       "  </tbody>\n",
       "</table>\n",
       "</div>"
      ],
      "text/plain": [
       "  Broad_Bean_Origin\n",
       "0            Belize\n",
       "1           Bolivia\n",
       "2            Brazil\n",
       "3          Colombia\n",
       "4             Congo"
      ]
     },
<<<<<<< HEAD
     "execution_count": 25,
=======
     "execution_count": 26,
>>>>>>> Test
     "metadata": {},
     "output_type": "execute_result"
    }
   ],
   "source": [
    "Broad_Bean_Origin_df.head()"
   ]
  },
  {
   "cell_type": "code",
<<<<<<< HEAD
   "execution_count": 26,
=======
   "execution_count": 27,
>>>>>>> Test
   "metadata": {},
   "outputs": [
    {
     "data": {
      "text/plain": [
       "Makers\n",
       "Soma                 46\n",
       "Bonnat               27\n",
       "Fresco               26\n",
       "Pralus               25\n",
       "A. Morin             23\n",
       "                     ..\n",
       "Chocablog             1\n",
       "Marigold's Finest     1\n",
       "Chloe Chocolat        1\n",
       "Chequessett           1\n",
       "Ki' Xocolatl          1\n",
       "Name: count, Length: 416, dtype: int64"
      ]
     },
<<<<<<< HEAD
     "execution_count": 26,
=======
     "execution_count": 27,
>>>>>>> Test
     "metadata": {},
     "output_type": "execute_result"
    }
   ],
   "source": [
    "df['Makers'].value_counts()"
   ]
  },
  {
   "cell_type": "code",
<<<<<<< HEAD
   "execution_count": 27,
=======
   "execution_count": 28,
>>>>>>> Test
   "metadata": {},
   "outputs": [
    {
     "data": {
      "text/plain": [
       "Bean_Origin\n",
       "Madagascar                        56\n",
       "Peru                              45\n",
       "Ecuador                           42\n",
       "Dominican Republic                37\n",
       "Venezuela                         21\n",
       "                                  ..\n",
       "Conacado, #213, DR, -C             1\n",
       "Sambirano Valley, #215, MR, MC     1\n",
       "Chuao, #218, MR, MC                1\n",
       "Chuao, #217, DR, MC                1\n",
       "Brazil, Mitzi Blue                 1\n",
       "Name: count, Length: 1038, dtype: int64"
      ]
     },
<<<<<<< HEAD
     "execution_count": 27,
=======
     "execution_count": 28,
>>>>>>> Test
     "metadata": {},
     "output_type": "execute_result"
    }
   ],
   "source": [
    "df['Bean_Origin'].value_counts()"
   ]
  },
  {
   "cell_type": "code",
<<<<<<< HEAD
   "execution_count": 28,
=======
   "execution_count": 29,
>>>>>>> Test
   "metadata": {},
   "outputs": [
    {
     "data": {
      "text/plain": [
       "Broad_Bean_Origin\n",
       "Venezuela             214\n",
       "Ecuador               193\n",
       "Less Known            168\n",
       "Peru                  165\n",
       "Madagascar            145\n",
       "Dominican Republic    141\n",
       "                       73\n",
       "Nicaragua              60\n",
       "Brazil                 58\n",
       "Bolivia                57\n",
       "Belize                 49\n",
       "Papua New Guinea       42\n",
       "Colombia               40\n",
       "Costa Rica             38\n",
       "Vietnam                38\n",
       "Tanzania               34\n",
       "Trinidad               33\n",
       "Ghana                  33\n",
       "Mexico                 30\n",
       "Guatemala              28\n",
       "Hawaii                 28\n",
       "Domincan Republic      25\n",
       "Jamaica                20\n",
       "Grenada                19\n",
       "Indonesia              16\n",
       "Honduras               15\n",
       "Cuba                   11\n",
       "Congo                  10\n",
       "Sao Tome               10\n",
       "Name: count, dtype: int64"
      ]
     },
<<<<<<< HEAD
     "execution_count": 28,
=======
     "execution_count": 29,
>>>>>>> Test
     "metadata": {},
     "output_type": "execute_result"
    }
   ],
   "source": [
    "df['Broad_Bean_Origin'].value_counts()"
   ]
  },
  {
   "cell_type": "code",
<<<<<<< HEAD
   "execution_count": 29,
=======
   "execution_count": 30,
>>>>>>> Test
   "metadata": {},
   "outputs": [
    {
     "data": {
      "text/plain": [
       "Company_Location\n",
       "U.S.A.               763\n",
       "France               156\n",
       "Canada               124\n",
       "U.K.                  96\n",
       "Italy                 63\n",
       "Ecuador               54\n",
       "Australia             49\n",
       "Belgium               40\n",
       "Switzerland           38\n",
       "Germany               35\n",
       "Austria               26\n",
       "Spain                 25\n",
       "Colombia              23\n",
       "Hungary               22\n",
       "Venezuela             20\n",
       "Japan                 17\n",
       "Brazil                17\n",
       "Peru                  17\n",
       "Madagascar            17\n",
       "New Zealand           17\n",
       "Denmark               15\n",
       "Vietnam               11\n",
       "Scotland              10\n",
       "Guatemala             10\n",
       "Israel                 9\n",
       "Costa Rica             9\n",
       "Argentina              9\n",
       "Poland                 8\n",
       "Lithuania              6\n",
       "Honduras               6\n",
       "South Korea            5\n",
       "Nicaragua              5\n",
       "Sweden                 5\n",
       "Domincan Republic      5\n",
       "Ireland                4\n",
       "Netherlands            4\n",
       "Fiji                   4\n",
       "Sao Tome               4\n",
       "Puerto Rico            4\n",
       "Mexico                 4\n",
       "Amsterdam              4\n",
       "Iceland                3\n",
       "Singapore              3\n",
       "Portugal               3\n",
       "Grenada                3\n",
       "South Africa           3\n",
       "Finland                2\n",
       "Bolivia                2\n",
       "St. Lucia              2\n",
       "Chile                  2\n",
       "Philippines            1\n",
       "Czech Republic         1\n",
       "India                  1\n",
       "Martinique             1\n",
       "Niacragua              1\n",
       "Ghana                  1\n",
       "Wales                  1\n",
       "Eucador                1\n",
       "Russia                 1\n",
       "Suriname               1\n",
       "Name: count, dtype: int64"
      ]
     },
<<<<<<< HEAD
     "execution_count": 29,
=======
     "execution_count": 30,
>>>>>>> Test
     "metadata": {},
     "output_type": "execute_result"
    }
   ],
   "source": [
    "df['Company_Location'].value_counts()"
   ]
  },
  {
   "cell_type": "code",
<<<<<<< HEAD
   "execution_count": 30,
=======
   "execution_count": 31,
>>>>>>> Test
   "metadata": {},
   "outputs": [
    {
     "data": {
      "text/plain": [
       "Makers               0\n",
       "Bean_Origin          0\n",
       "Cocoa_Percentage     0\n",
       "Company_Location     0\n",
       "Rating               0\n",
       "Broad_Bean_Origin    0\n",
       "dtype: int64"
      ]
     },
<<<<<<< HEAD
     "execution_count": 30,
=======
     "execution_count": 31,
>>>>>>> Test
     "metadata": {},
     "output_type": "execute_result"
    }
   ],
   "source": [
    "df.isnull().sum()"
   ]
  },
  {
   "cell_type": "code",
<<<<<<< HEAD
   "execution_count": 31,
=======
   "execution_count": 32,
>>>>>>> Test
   "metadata": {},
   "outputs": [
    {
     "data": {
      "text/html": [
       "<div>\n",
       "<style scoped>\n",
       "    .dataframe tbody tr th:only-of-type {\n",
       "        vertical-align: middle;\n",
       "    }\n",
       "\n",
       "    .dataframe tbody tr th {\n",
       "        vertical-align: top;\n",
       "    }\n",
       "\n",
       "    .dataframe thead th {\n",
       "        text-align: right;\n",
       "    }\n",
       "</style>\n",
       "<table border=\"1\" class=\"dataframe\">\n",
       "  <thead>\n",
       "    <tr style=\"text-align: right;\">\n",
       "      <th></th>\n",
       "      <th>Makers</th>\n",
       "      <th>Bean_Origin</th>\n",
       "      <th>Cocoa_Percentage</th>\n",
       "      <th>Company_Location</th>\n",
       "      <th>Rating</th>\n",
       "      <th>Broad_Bean_Origin</th>\n",
       "    </tr>\n",
       "  </thead>\n",
       "  <tbody>\n",
       "    <tr>\n",
       "      <th>0</th>\n",
       "      <td>A. Morin</td>\n",
       "      <td>Agua Grande</td>\n",
       "      <td>63%</td>\n",
       "      <td>France</td>\n",
       "      <td>3.75</td>\n",
       "      <td>Sao Tome</td>\n",
       "    </tr>\n",
       "    <tr>\n",
       "      <th>1</th>\n",
       "      <td>A. Morin</td>\n",
       "      <td>Kpime</td>\n",
       "      <td>70%</td>\n",
       "      <td>France</td>\n",
       "      <td>2.75</td>\n",
       "      <td>Less Known</td>\n",
       "    </tr>\n",
       "    <tr>\n",
       "      <th>2</th>\n",
       "      <td>A. Morin</td>\n",
       "      <td>Atsane</td>\n",
       "      <td>70%</td>\n",
       "      <td>France</td>\n",
       "      <td>3.00</td>\n",
       "      <td>Less Known</td>\n",
       "    </tr>\n",
       "    <tr>\n",
       "      <th>3</th>\n",
       "      <td>A. Morin</td>\n",
       "      <td>Akata</td>\n",
       "      <td>70%</td>\n",
       "      <td>France</td>\n",
       "      <td>3.50</td>\n",
       "      <td>Less Known</td>\n",
       "    </tr>\n",
       "    <tr>\n",
       "      <th>4</th>\n",
       "      <td>A. Morin</td>\n",
       "      <td>Quilla</td>\n",
       "      <td>70%</td>\n",
       "      <td>France</td>\n",
       "      <td>3.50</td>\n",
       "      <td>Peru</td>\n",
       "    </tr>\n",
       "  </tbody>\n",
       "</table>\n",
       "</div>"
      ],
      "text/plain": [
       "     Makers  Bean_Origin Cocoa_Percentage Company_Location  Rating  \\\n",
       "0  A. Morin  Agua Grande              63%           France    3.75   \n",
       "1  A. Morin        Kpime              70%           France    2.75   \n",
       "2  A. Morin       Atsane              70%           France    3.00   \n",
       "3  A. Morin        Akata              70%           France    3.50   \n",
       "4  A. Morin       Quilla              70%           France    3.50   \n",
       "\n",
       "  Broad_Bean_Origin  \n",
       "0          Sao Tome  \n",
       "1        Less Known  \n",
       "2        Less Known  \n",
       "3        Less Known  \n",
       "4              Peru  "
      ]
     },
<<<<<<< HEAD
     "execution_count": 31,
=======
     "execution_count": 32,
>>>>>>> Test
     "metadata": {},
     "output_type": "execute_result"
    }
   ],
   "source": [
    "df.head()"
   ]
  },
  {
   "cell_type": "markdown",
   "metadata": {},
   "source": [
    "'Makers', 'Broad_Bean_Origin', 'Bean_Origin', 'Company_Location'"
   ]
  },
  {
   "cell_type": "code",
<<<<<<< HEAD
   "execution_count": 32,
=======
   "execution_count": 33,
>>>>>>> Test
   "metadata": {},
   "outputs": [],
   "source": [
    "unique_items_m = df['Makers'].unique()\n",
    "Makers_df = sorted(unique_items_m)\n",
    "Makers_df= pd.DataFrame(Makers_df, columns=['Makers'])"
   ]
  },
  {
   "cell_type": "code",
<<<<<<< HEAD
   "execution_count": 33,
=======
   "execution_count": 34,
>>>>>>> Test
   "metadata": {},
   "outputs": [],
   "source": [
    "unique_items_bo = df['Bean_Origin'].unique()\n",
    "Bean_Origin_df = sorted(unique_items_bo)\n",
    "Bean_Origin_df= pd.DataFrame(Bean_Origin_df, columns=['Bean_Origin'])"
   ]
  },
  {
   "cell_type": "code",
<<<<<<< HEAD
   "execution_count": 80,
=======
   "execution_count": 35,
>>>>>>> Test
   "metadata": {},
   "outputs": [
    {
     "data": {
      "text/html": [
       "<div>\n",
       "<style scoped>\n",
       "    .dataframe tbody tr th:only-of-type {\n",
       "        vertical-align: middle;\n",
       "    }\n",
       "\n",
       "    .dataframe tbody tr th {\n",
       "        vertical-align: top;\n",
       "    }\n",
       "\n",
       "    .dataframe thead th {\n",
       "        text-align: right;\n",
       "    }\n",
       "</style>\n",
       "<table border=\"1\" class=\"dataframe\">\n",
       "  <thead>\n",
       "    <tr style=\"text-align: right;\">\n",
       "      <th></th>\n",
       "      <th>Bean_Origin</th>\n",
       "    </tr>\n",
       "  </thead>\n",
       "  <tbody>\n",
       "    <tr>\n",
       "      <th>0</th>\n",
       "      <td>\"heirloom\", Arriba Nacional</td>\n",
       "    </tr>\n",
       "    <tr>\n",
       "      <th>1</th>\n",
       "      <td>100 percent</td>\n",
       "    </tr>\n",
       "    <tr>\n",
       "      <th>2</th>\n",
       "      <td>2009 Hapa Nibby</td>\n",
       "    </tr>\n",
       "    <tr>\n",
       "      <th>3</th>\n",
       "      <td>A case of the Xerces Blues, triple roast</td>\n",
       "    </tr>\n",
       "    <tr>\n",
       "      <th>4</th>\n",
       "      <td>ABOCFA Coop</td>\n",
       "    </tr>\n",
       "    <tr>\n",
       "      <th>...</th>\n",
       "      <td>...</td>\n",
       "    </tr>\n",
       "    <tr>\n",
       "      <th>1033</th>\n",
       "      <td>black label</td>\n",
       "    </tr>\n",
       "    <tr>\n",
       "      <th>1034</th>\n",
       "      <td>la Amistad</td>\n",
       "    </tr>\n",
       "    <tr>\n",
       "      <th>1035</th>\n",
       "      <td>one hundred</td>\n",
       "    </tr>\n",
       "    <tr>\n",
       "      <th>1036</th>\n",
       "      <td>single estate</td>\n",
       "    </tr>\n",
       "    <tr>\n",
       "      <th>1037</th>\n",
       "      <td>the lost city, gracias a dias, batch 362</td>\n",
       "    </tr>\n",
       "  </tbody>\n",
       "</table>\n",
       "<p>1038 rows × 1 columns</p>\n",
       "</div>"
      ],
      "text/plain": [
       "                                   Bean_Origin\n",
       "0                  \"heirloom\", Arriba Nacional\n",
       "1                                  100 percent\n",
       "2                              2009 Hapa Nibby\n",
       "3     A case of the Xerces Blues, triple roast\n",
       "4                                  ABOCFA Coop\n",
       "...                                        ...\n",
       "1033                               black label\n",
       "1034                                la Amistad\n",
       "1035                               one hundred\n",
       "1036                             single estate\n",
       "1037  the lost city, gracias a dias, batch 362\n",
       "\n",
       "[1038 rows x 1 columns]"
      ]
     },
<<<<<<< HEAD
     "execution_count": 80,
=======
     "execution_count": 35,
>>>>>>> Test
     "metadata": {},
     "output_type": "execute_result"
    }
   ],
   "source": [
    "Bean_Origin_df"
   ]
  },
  {
   "cell_type": "code",
<<<<<<< HEAD
   "execution_count": 34,
=======
   "execution_count": 36,
>>>>>>> Test
   "metadata": {},
   "outputs": [],
   "source": [
    "unique_items_cl = df['Company_Location'].unique()\n",
    "Company_Location_df = sorted(unique_items_cl)\n",
    "Company_Location_df= pd.DataFrame(Company_Location_df, columns=['Company_Location'])"
   ]
  },
  {
   "cell_type": "code",
<<<<<<< HEAD
   "execution_count": 38,
=======
   "execution_count": 37,
>>>>>>> Test
   "metadata": {},
   "outputs": [
    {
     "data": {
      "text/plain": [
       "Index(['Makers', 'Bean_Origin', 'Cocoa_Percentage', 'Company_Location',\n",
       "       'Rating', 'Broad_Bean_Origin'],\n",
       "      dtype='object')"
      ]
     },
<<<<<<< HEAD
     "execution_count": 38,
=======
     "execution_count": 37,
>>>>>>> Test
     "metadata": {},
     "output_type": "execute_result"
    }
   ],
   "source": [
    "df.columns"
   ]
  },
  {
   "cell_type": "code",
<<<<<<< HEAD
   "execution_count": 39,
=======
   "execution_count": 38,
>>>>>>> Test
   "metadata": {},
   "outputs": [],
   "source": [
    "from sklearn.preprocessing import OrdinalEncoder"
   ]
  },
  {
   "cell_type": "code",
<<<<<<< HEAD
   "execution_count": 40,
=======
   "execution_count": 39,
>>>>>>> Test
   "metadata": {},
   "outputs": [],
   "source": [
    "encoder = OrdinalEncoder()"
   ]
  },
  {
   "cell_type": "code",
<<<<<<< HEAD
   "execution_count": 41,
=======
   "execution_count": 40,
>>>>>>> Test
   "metadata": {},
   "outputs": [],
   "source": [
    "encoded_data = encoder.fit_transform(df[['Makers', 'Bean_Origin', 'Company_Location', 'Broad_Bean_Origin']])"
   ]
  },
  {
   "cell_type": "code",
<<<<<<< HEAD
   "execution_count": 42,
=======
   "execution_count": 41,
>>>>>>> Test
   "metadata": {},
   "outputs": [],
   "source": [
    "encoded_df = pd.DataFrame(encoded_data, columns=['Makers', 'Bean_Origin', 'Company_Location', 'Broad_Bean_Origin'])"
   ]
  },
  {
   "cell_type": "code",
<<<<<<< HEAD
   "execution_count": 44,
=======
   "execution_count": 42,
>>>>>>> Test
   "metadata": {},
   "outputs": [
    {
     "data": {
      "text/html": [
       "<div>\n",
       "<style scoped>\n",
       "    .dataframe tbody tr th:only-of-type {\n",
       "        vertical-align: middle;\n",
       "    }\n",
       "\n",
       "    .dataframe tbody tr th {\n",
       "        vertical-align: top;\n",
       "    }\n",
       "\n",
       "    .dataframe thead th {\n",
       "        text-align: right;\n",
       "    }\n",
       "</style>\n",
       "<table border=\"1\" class=\"dataframe\">\n",
       "  <thead>\n",
       "    <tr style=\"text-align: right;\">\n",
       "      <th></th>\n",
       "      <th>Makers</th>\n",
       "      <th>Bean_Origin</th>\n",
       "      <th>Company_Location</th>\n",
       "      <th>Broad_Bean_Origin</th>\n",
       "    </tr>\n",
       "  </thead>\n",
       "  <tbody>\n",
       "    <tr>\n",
       "      <th>0</th>\n",
       "      <td>0.0</td>\n",
       "      <td>14.0</td>\n",
       "      <td>18.0</td>\n",
       "      <td>23.0</td>\n",
       "    </tr>\n",
       "    <tr>\n",
       "      <th>1</th>\n",
       "      <td>0.0</td>\n",
       "      <td>492.0</td>\n",
       "      <td>18.0</td>\n",
       "      <td>17.0</td>\n",
       "    </tr>\n",
       "    <tr>\n",
       "      <th>2</th>\n",
       "      <td>0.0</td>\n",
       "      <td>67.0</td>\n",
       "      <td>18.0</td>\n",
       "      <td>17.0</td>\n",
       "    </tr>\n",
       "    <tr>\n",
       "      <th>3</th>\n",
       "      <td>0.0</td>\n",
       "      <td>15.0</td>\n",
       "      <td>18.0</td>\n",
       "      <td>17.0</td>\n",
       "    </tr>\n",
       "    <tr>\n",
       "      <th>4</th>\n",
       "      <td>0.0</td>\n",
       "      <td>809.0</td>\n",
       "      <td>18.0</td>\n",
       "      <td>22.0</td>\n",
       "    </tr>\n",
       "  </tbody>\n",
       "</table>\n",
       "</div>"
      ],
      "text/plain": [
       "   Makers  Bean_Origin  Company_Location  Broad_Bean_Origin\n",
       "0     0.0         14.0              18.0               23.0\n",
       "1     0.0        492.0              18.0               17.0\n",
       "2     0.0         67.0              18.0               17.0\n",
       "3     0.0         15.0              18.0               17.0\n",
       "4     0.0        809.0              18.0               22.0"
      ]
     },
<<<<<<< HEAD
     "execution_count": 44,
=======
     "execution_count": 42,
>>>>>>> Test
     "metadata": {},
     "output_type": "execute_result"
    }
   ],
   "source": [
    "encoded_df.head()"
   ]
  },
  {
   "cell_type": "code",
<<<<<<< HEAD
   "execution_count": 45,
=======
   "execution_count": 43,
>>>>>>> Test
   "metadata": {},
   "outputs": [
    {
     "data": {
      "text/html": [
       "<div>\n",
       "<style scoped>\n",
       "    .dataframe tbody tr th:only-of-type {\n",
       "        vertical-align: middle;\n",
       "    }\n",
       "\n",
       "    .dataframe tbody tr th {\n",
       "        vertical-align: top;\n",
       "    }\n",
       "\n",
       "    .dataframe thead th {\n",
       "        text-align: right;\n",
       "    }\n",
       "</style>\n",
       "<table border=\"1\" class=\"dataframe\">\n",
       "  <thead>\n",
       "    <tr style=\"text-align: right;\">\n",
       "      <th></th>\n",
       "      <th>Makers</th>\n",
       "      <th>Bean_Origin</th>\n",
       "      <th>Cocoa_Percentage</th>\n",
       "      <th>Company_Location</th>\n",
       "      <th>Rating</th>\n",
       "      <th>Broad_Bean_Origin</th>\n",
       "    </tr>\n",
       "  </thead>\n",
       "  <tbody>\n",
       "    <tr>\n",
       "      <th>0</th>\n",
       "      <td>A. Morin</td>\n",
       "      <td>Agua Grande</td>\n",
       "      <td>63%</td>\n",
       "      <td>France</td>\n",
       "      <td>3.75</td>\n",
       "      <td>Sao Tome</td>\n",
       "    </tr>\n",
       "    <tr>\n",
       "      <th>1</th>\n",
       "      <td>A. Morin</td>\n",
       "      <td>Kpime</td>\n",
       "      <td>70%</td>\n",
       "      <td>France</td>\n",
       "      <td>2.75</td>\n",
       "      <td>Less Known</td>\n",
       "    </tr>\n",
       "    <tr>\n",
       "      <th>2</th>\n",
       "      <td>A. Morin</td>\n",
       "      <td>Atsane</td>\n",
       "      <td>70%</td>\n",
       "      <td>France</td>\n",
       "      <td>3.00</td>\n",
       "      <td>Less Known</td>\n",
       "    </tr>\n",
       "    <tr>\n",
       "      <th>3</th>\n",
       "      <td>A. Morin</td>\n",
       "      <td>Akata</td>\n",
       "      <td>70%</td>\n",
       "      <td>France</td>\n",
       "      <td>3.50</td>\n",
       "      <td>Less Known</td>\n",
       "    </tr>\n",
       "    <tr>\n",
       "      <th>4</th>\n",
       "      <td>A. Morin</td>\n",
       "      <td>Quilla</td>\n",
       "      <td>70%</td>\n",
       "      <td>France</td>\n",
       "      <td>3.50</td>\n",
       "      <td>Peru</td>\n",
       "    </tr>\n",
       "  </tbody>\n",
       "</table>\n",
       "</div>"
      ],
      "text/plain": [
       "     Makers  Bean_Origin Cocoa_Percentage Company_Location  Rating  \\\n",
       "0  A. Morin  Agua Grande              63%           France    3.75   \n",
       "1  A. Morin        Kpime              70%           France    2.75   \n",
       "2  A. Morin       Atsane              70%           France    3.00   \n",
       "3  A. Morin        Akata              70%           France    3.50   \n",
       "4  A. Morin       Quilla              70%           France    3.50   \n",
       "\n",
       "  Broad_Bean_Origin  \n",
       "0          Sao Tome  \n",
       "1        Less Known  \n",
       "2        Less Known  \n",
       "3        Less Known  \n",
       "4              Peru  "
      ]
     },
<<<<<<< HEAD
     "execution_count": 45,
=======
     "execution_count": 43,
>>>>>>> Test
     "metadata": {},
     "output_type": "execute_result"
    }
   ],
   "source": [
    "df.head()"
   ]
  },
  {
   "cell_type": "code",
<<<<<<< HEAD
   "execution_count": 67,
=======
   "execution_count": 44,
>>>>>>> Test
   "metadata": {},
   "outputs": [],
   "source": [
    "result_df = pd.concat([encoded_df, df['Cocoa_Percentage']], axis=1)"
   ]
  },
  {
   "cell_type": "code",
<<<<<<< HEAD
   "execution_count": 68,
=======
   "execution_count": 45,
>>>>>>> Test
   "metadata": {},
   "outputs": [
    {
     "data": {
      "text/html": [
       "<div>\n",
       "<style scoped>\n",
       "    .dataframe tbody tr th:only-of-type {\n",
       "        vertical-align: middle;\n",
       "    }\n",
       "\n",
       "    .dataframe tbody tr th {\n",
       "        vertical-align: top;\n",
       "    }\n",
       "\n",
       "    .dataframe thead th {\n",
       "        text-align: right;\n",
       "    }\n",
       "</style>\n",
       "<table border=\"1\" class=\"dataframe\">\n",
       "  <thead>\n",
       "    <tr style=\"text-align: right;\">\n",
       "      <th></th>\n",
       "      <th>Makers</th>\n",
       "      <th>Bean_Origin</th>\n",
       "      <th>Company_Location</th>\n",
       "      <th>Broad_Bean_Origin</th>\n",
       "      <th>Cocoa_Percentage</th>\n",
       "    </tr>\n",
       "  </thead>\n",
       "  <tbody>\n",
       "    <tr>\n",
       "      <th>0</th>\n",
       "      <td>0.0</td>\n",
       "      <td>14.0</td>\n",
       "      <td>18.0</td>\n",
       "      <td>23.0</td>\n",
       "      <td>63%</td>\n",
       "    </tr>\n",
       "    <tr>\n",
       "      <th>1</th>\n",
       "      <td>0.0</td>\n",
       "      <td>492.0</td>\n",
       "      <td>18.0</td>\n",
       "      <td>17.0</td>\n",
       "      <td>70%</td>\n",
       "    </tr>\n",
       "    <tr>\n",
       "      <th>2</th>\n",
       "      <td>0.0</td>\n",
       "      <td>67.0</td>\n",
       "      <td>18.0</td>\n",
       "      <td>17.0</td>\n",
       "      <td>70%</td>\n",
       "    </tr>\n",
       "    <tr>\n",
       "      <th>3</th>\n",
       "      <td>0.0</td>\n",
       "      <td>15.0</td>\n",
       "      <td>18.0</td>\n",
       "      <td>17.0</td>\n",
       "      <td>70%</td>\n",
       "    </tr>\n",
       "    <tr>\n",
       "      <th>4</th>\n",
       "      <td>0.0</td>\n",
       "      <td>809.0</td>\n",
       "      <td>18.0</td>\n",
       "      <td>22.0</td>\n",
       "      <td>70%</td>\n",
       "    </tr>\n",
       "    <tr>\n",
       "      <th>...</th>\n",
       "      <td>...</td>\n",
       "      <td>...</td>\n",
       "      <td>...</td>\n",
       "      <td>...</td>\n",
       "      <td>...</td>\n",
       "    </tr>\n",
       "    <tr>\n",
       "      <th>1790</th>\n",
       "      <td>410.0</td>\n",
       "      <td>483.0</td>\n",
       "      <td>3.0</td>\n",
       "      <td>17.0</td>\n",
       "      <td>70%</td>\n",
       "    </tr>\n",
       "    <tr>\n",
       "      <th>1791</th>\n",
       "      <td>410.0</td>\n",
       "      <td>483.0</td>\n",
       "      <td>3.0</td>\n",
       "      <td>17.0</td>\n",
       "      <td>65%</td>\n",
       "    </tr>\n",
       "    <tr>\n",
       "      <th>1792</th>\n",
       "      <td>410.0</td>\n",
       "      <td>137.0</td>\n",
       "      <td>3.0</td>\n",
       "      <td>2.0</td>\n",
       "      <td>65%</td>\n",
       "    </tr>\n",
       "    <tr>\n",
       "      <th>1793</th>\n",
       "      <td>NaN</td>\n",
       "      <td>NaN</td>\n",
       "      <td>NaN</td>\n",
       "      <td>NaN</td>\n",
       "      <td>62%</td>\n",
       "    </tr>\n",
       "    <tr>\n",
       "      <th>1794</th>\n",
       "      <td>NaN</td>\n",
       "      <td>NaN</td>\n",
       "      <td>NaN</td>\n",
       "      <td>NaN</td>\n",
       "      <td>65%</td>\n",
       "    </tr>\n",
       "  </tbody>\n",
       "</table>\n",
       "<p>1795 rows × 5 columns</p>\n",
       "</div>"
      ],
      "text/plain": [
       "      Makers  Bean_Origin  Company_Location  Broad_Bean_Origin  \\\n",
       "0        0.0         14.0              18.0               23.0   \n",
       "1        0.0        492.0              18.0               17.0   \n",
       "2        0.0         67.0              18.0               17.0   \n",
       "3        0.0         15.0              18.0               17.0   \n",
       "4        0.0        809.0              18.0               22.0   \n",
       "...      ...          ...               ...                ...   \n",
       "1790   410.0        483.0               3.0               17.0   \n",
       "1791   410.0        483.0               3.0               17.0   \n",
       "1792   410.0        137.0               3.0                2.0   \n",
       "1793     NaN          NaN               NaN                NaN   \n",
       "1794     NaN          NaN               NaN                NaN   \n",
       "\n",
       "     Cocoa_Percentage  \n",
       "0                 63%  \n",
       "1                 70%  \n",
       "2                 70%  \n",
       "3                 70%  \n",
       "4                 70%  \n",
       "...               ...  \n",
       "1790              70%  \n",
       "1791              65%  \n",
       "1792              65%  \n",
       "1793              62%  \n",
       "1794              65%  \n",
       "\n",
       "[1795 rows x 5 columns]"
      ]
     },
<<<<<<< HEAD
     "execution_count": 68,
=======
     "execution_count": 45,
>>>>>>> Test
     "metadata": {},
     "output_type": "execute_result"
    }
   ],
   "source": [
    "result_df"
   ]
  },
  {
   "cell_type": "code",
<<<<<<< HEAD
   "execution_count": 69,
=======
   "execution_count": 46,
>>>>>>> Test
   "metadata": {},
   "outputs": [],
   "source": [
    "result_df = pd.concat([result_df, df['Rating']], axis=1)"
   ]
  },
  {
   "cell_type": "code",
<<<<<<< HEAD
   "execution_count": 70,
=======
   "execution_count": 47,
>>>>>>> Test
   "metadata": {},
   "outputs": [
    {
     "data": {
      "text/html": [
       "<div>\n",
       "<style scoped>\n",
       "    .dataframe tbody tr th:only-of-type {\n",
       "        vertical-align: middle;\n",
       "    }\n",
       "\n",
       "    .dataframe tbody tr th {\n",
       "        vertical-align: top;\n",
       "    }\n",
       "\n",
       "    .dataframe thead th {\n",
       "        text-align: right;\n",
       "    }\n",
       "</style>\n",
       "<table border=\"1\" class=\"dataframe\">\n",
       "  <thead>\n",
       "    <tr style=\"text-align: right;\">\n",
       "      <th></th>\n",
       "      <th>Makers</th>\n",
       "      <th>Bean_Origin</th>\n",
       "      <th>Company_Location</th>\n",
       "      <th>Broad_Bean_Origin</th>\n",
       "      <th>Cocoa_Percentage</th>\n",
       "      <th>Rating</th>\n",
       "    </tr>\n",
       "  </thead>\n",
       "  <tbody>\n",
       "    <tr>\n",
       "      <th>0</th>\n",
       "      <td>0.0</td>\n",
       "      <td>14.0</td>\n",
       "      <td>18.0</td>\n",
       "      <td>23.0</td>\n",
       "      <td>63%</td>\n",
       "      <td>3.75</td>\n",
       "    </tr>\n",
       "    <tr>\n",
       "      <th>1</th>\n",
       "      <td>0.0</td>\n",
       "      <td>492.0</td>\n",
       "      <td>18.0</td>\n",
       "      <td>17.0</td>\n",
       "      <td>70%</td>\n",
       "      <td>2.75</td>\n",
       "    </tr>\n",
       "    <tr>\n",
       "      <th>2</th>\n",
       "      <td>0.0</td>\n",
       "      <td>67.0</td>\n",
       "      <td>18.0</td>\n",
       "      <td>17.0</td>\n",
       "      <td>70%</td>\n",
       "      <td>3.00</td>\n",
       "    </tr>\n",
       "    <tr>\n",
       "      <th>3</th>\n",
       "      <td>0.0</td>\n",
       "      <td>15.0</td>\n",
       "      <td>18.0</td>\n",
       "      <td>17.0</td>\n",
       "      <td>70%</td>\n",
       "      <td>3.50</td>\n",
       "    </tr>\n",
       "    <tr>\n",
       "      <th>4</th>\n",
       "      <td>0.0</td>\n",
       "      <td>809.0</td>\n",
       "      <td>18.0</td>\n",
       "      <td>22.0</td>\n",
       "      <td>70%</td>\n",
       "      <td>3.50</td>\n",
       "    </tr>\n",
       "  </tbody>\n",
       "</table>\n",
       "</div>"
      ],
      "text/plain": [
       "   Makers  Bean_Origin  Company_Location  Broad_Bean_Origin Cocoa_Percentage  \\\n",
       "0     0.0         14.0              18.0               23.0              63%   \n",
       "1     0.0        492.0              18.0               17.0              70%   \n",
       "2     0.0         67.0              18.0               17.0              70%   \n",
       "3     0.0         15.0              18.0               17.0              70%   \n",
       "4     0.0        809.0              18.0               22.0              70%   \n",
       "\n",
       "   Rating  \n",
       "0    3.75  \n",
       "1    2.75  \n",
       "2    3.00  \n",
       "3    3.50  \n",
       "4    3.50  "
      ]
     },
<<<<<<< HEAD
     "execution_count": 70,
=======
     "execution_count": 47,
>>>>>>> Test
     "metadata": {},
     "output_type": "execute_result"
    }
   ],
   "source": [
    "result_df.head()"
   ]
  },
  {
   "cell_type": "code",
<<<<<<< HEAD
   "execution_count": 71,
=======
   "execution_count": 48,
>>>>>>> Test
   "metadata": {},
   "outputs": [],
   "source": [
    "result_df['Cocoa_Percentage'] = result_df['Cocoa_Percentage'].str.rstrip('%').astype(float) / 100"
   ]
  },
  {
   "cell_type": "code",
<<<<<<< HEAD
   "execution_count": 72,
=======
   "execution_count": 49,
>>>>>>> Test
   "metadata": {},
   "outputs": [
    {
     "data": {
      "text/html": [
       "<div>\n",
       "<style scoped>\n",
       "    .dataframe tbody tr th:only-of-type {\n",
       "        vertical-align: middle;\n",
       "    }\n",
       "\n",
       "    .dataframe tbody tr th {\n",
       "        vertical-align: top;\n",
       "    }\n",
       "\n",
       "    .dataframe thead th {\n",
       "        text-align: right;\n",
       "    }\n",
       "</style>\n",
       "<table border=\"1\" class=\"dataframe\">\n",
       "  <thead>\n",
       "    <tr style=\"text-align: right;\">\n",
       "      <th></th>\n",
       "      <th>Makers</th>\n",
       "      <th>Bean_Origin</th>\n",
       "      <th>Company_Location</th>\n",
       "      <th>Broad_Bean_Origin</th>\n",
       "      <th>Cocoa_Percentage</th>\n",
       "      <th>Rating</th>\n",
       "    </tr>\n",
       "  </thead>\n",
       "  <tbody>\n",
       "    <tr>\n",
       "      <th>0</th>\n",
       "      <td>0.0</td>\n",
       "      <td>14.0</td>\n",
       "      <td>18.0</td>\n",
       "      <td>23.0</td>\n",
       "      <td>0.63</td>\n",
       "      <td>3.75</td>\n",
       "    </tr>\n",
       "    <tr>\n",
       "      <th>1</th>\n",
       "      <td>0.0</td>\n",
       "      <td>492.0</td>\n",
       "      <td>18.0</td>\n",
       "      <td>17.0</td>\n",
       "      <td>0.70</td>\n",
       "      <td>2.75</td>\n",
       "    </tr>\n",
       "    <tr>\n",
       "      <th>2</th>\n",
       "      <td>0.0</td>\n",
       "      <td>67.0</td>\n",
       "      <td>18.0</td>\n",
       "      <td>17.0</td>\n",
       "      <td>0.70</td>\n",
       "      <td>3.00</td>\n",
       "    </tr>\n",
       "    <tr>\n",
       "      <th>3</th>\n",
       "      <td>0.0</td>\n",
       "      <td>15.0</td>\n",
       "      <td>18.0</td>\n",
       "      <td>17.0</td>\n",
       "      <td>0.70</td>\n",
       "      <td>3.50</td>\n",
       "    </tr>\n",
       "    <tr>\n",
       "      <th>4</th>\n",
       "      <td>0.0</td>\n",
       "      <td>809.0</td>\n",
       "      <td>18.0</td>\n",
       "      <td>22.0</td>\n",
       "      <td>0.70</td>\n",
       "      <td>3.50</td>\n",
       "    </tr>\n",
       "  </tbody>\n",
       "</table>\n",
       "</div>"
      ],
      "text/plain": [
       "   Makers  Bean_Origin  Company_Location  Broad_Bean_Origin  Cocoa_Percentage  \\\n",
       "0     0.0         14.0              18.0               23.0              0.63   \n",
       "1     0.0        492.0              18.0               17.0              0.70   \n",
       "2     0.0         67.0              18.0               17.0              0.70   \n",
       "3     0.0         15.0              18.0               17.0              0.70   \n",
       "4     0.0        809.0              18.0               22.0              0.70   \n",
       "\n",
       "   Rating  \n",
       "0    3.75  \n",
       "1    2.75  \n",
       "2    3.00  \n",
       "3    3.50  \n",
       "4    3.50  "
      ]
     },
<<<<<<< HEAD
     "execution_count": 72,
=======
     "execution_count": 49,
>>>>>>> Test
     "metadata": {},
     "output_type": "execute_result"
    }
   ],
   "source": [
    "result_df.head()"
   ]
  },
  {
   "cell_type": "code",
<<<<<<< HEAD
   "execution_count": 73,
=======
   "execution_count": 50,
>>>>>>> Test
   "metadata": {},
   "outputs": [
    {
     "data": {
      "text/plain": [
       "array([[<Axes: title={'center': 'Makers'}>,\n",
       "        <Axes: title={'center': 'Bean_Origin'}>],\n",
       "       [<Axes: title={'center': 'Company_Location'}>,\n",
       "        <Axes: title={'center': 'Broad_Bean_Origin'}>],\n",
       "       [<Axes: title={'center': 'Cocoa_Percentage'}>,\n",
       "        <Axes: title={'center': 'Rating'}>]], dtype=object)"
      ]
     },
<<<<<<< HEAD
     "execution_count": 73,
=======
     "execution_count": 50,
>>>>>>> Test
     "metadata": {},
     "output_type": "execute_result"
    },
    {
     "data": {
      "image/png": "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",
      "text/plain": [
       "<Figure size 2000x2000 with 6 Axes>"
      ]
     },
     "metadata": {},
     "output_type": "display_data"
    }
   ],
   "source": [
    "result_df.hist(figsize=(20,20))"
   ]
  },
  {
   "cell_type": "code",
<<<<<<< HEAD
   "execution_count": 74,
=======
   "execution_count": 51,
>>>>>>> Test
   "metadata": {},
   "outputs": [],
   "source": [
    "df_corr = result_df.corr()"
   ]
  },
  {
   "cell_type": "code",
<<<<<<< HEAD
   "execution_count": 75,
=======
   "execution_count": 52,
>>>>>>> Test
   "metadata": {},
   "outputs": [],
   "source": [
    "import matplotlib.pyplot as plt"
   ]
  },
  {
   "cell_type": "code",
<<<<<<< HEAD
   "execution_count": 81,
=======
   "execution_count": 53,
>>>>>>> Test
   "metadata": {},
   "outputs": [],
   "source": [
    "mask = ~((df_corr > 0.05) | (df_corr< -0.05))"
   ]
  },
  {
   "cell_type": "code",
<<<<<<< HEAD
   "execution_count": 82,
=======
   "execution_count": 54,
>>>>>>> Test
   "metadata": {},
   "outputs": [
    {
     "data": {
      "text/plain": [
       "<Axes: >"
      ]
     },
<<<<<<< HEAD
     "execution_count": 82,
=======
     "execution_count": 54,
>>>>>>> Test
     "metadata": {},
     "output_type": "execute_result"
    },
    {
     "data": {
      "image/png": "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",
      "text/plain": [
       "<Figure size 1500x2000 with 2 Axes>"
      ]
     },
     "metadata": {},
     "output_type": "display_data"
    }
   ],
   "source": [
    "plt.figure(figsize=(15,20))\n",
    "sns.heatmap(df_corr, annot=True, cmap='coolwarm', square=True, mask=mask)"
   ]
  },
  {
   "cell_type": "code",
<<<<<<< HEAD
   "execution_count": 83,
=======
   "execution_count": 55,
>>>>>>> Test
   "metadata": {},
   "outputs": [
    {
     "data": {
      "text/plain": [
       "Index(['Makers', 'Bean_Origin', 'Company_Location', 'Broad_Bean_Origin',\n",
       "       'Cocoa_Percentage', 'Rating'],\n",
       "      dtype='object')"
      ]
     },
<<<<<<< HEAD
     "execution_count": 83,
=======
     "execution_count": 55,
>>>>>>> Test
     "metadata": {},
     "output_type": "execute_result"
    }
   ],
   "source": [
    "result_df.columns"
   ]
  },
  {
   "cell_type": "code",
<<<<<<< HEAD
   "execution_count": 79,
=======
   "execution_count": 56,
>>>>>>> Test
   "metadata": {},
   "outputs": [
    {
     "data": {
      "text/html": [
       "<div>\n",
       "<style scoped>\n",
       "    .dataframe tbody tr th:only-of-type {\n",
       "        vertical-align: middle;\n",
       "    }\n",
       "\n",
       "    .dataframe tbody tr th {\n",
       "        vertical-align: top;\n",
       "    }\n",
       "\n",
       "    .dataframe thead th {\n",
       "        text-align: right;\n",
       "    }\n",
       "</style>\n",
       "<table border=\"1\" class=\"dataframe\">\n",
       "  <thead>\n",
       "    <tr style=\"text-align: right;\">\n",
       "      <th></th>\n",
       "      <th>Makers</th>\n",
       "      <th>Bean_Origin</th>\n",
       "      <th>Company_Location</th>\n",
       "      <th>Broad_Bean_Origin</th>\n",
       "      <th>Cocoa_Percentage</th>\n",
       "      <th>Rating</th>\n",
       "    </tr>\n",
       "  </thead>\n",
       "  <tbody>\n",
       "    <tr>\n",
       "      <th>0</th>\n",
       "      <td>0.0</td>\n",
       "      <td>14.0</td>\n",
       "      <td>18.0</td>\n",
       "      <td>23.0</td>\n",
       "      <td>0.63</td>\n",
       "      <td>3.75</td>\n",
       "    </tr>\n",
       "    <tr>\n",
       "      <th>1</th>\n",
       "      <td>0.0</td>\n",
       "      <td>492.0</td>\n",
       "      <td>18.0</td>\n",
       "      <td>17.0</td>\n",
       "      <td>0.70</td>\n",
       "      <td>2.75</td>\n",
       "    </tr>\n",
       "    <tr>\n",
       "      <th>2</th>\n",
       "      <td>0.0</td>\n",
       "      <td>67.0</td>\n",
       "      <td>18.0</td>\n",
       "      <td>17.0</td>\n",
       "      <td>0.70</td>\n",
       "      <td>3.00</td>\n",
       "    </tr>\n",
       "    <tr>\n",
       "      <th>3</th>\n",
       "      <td>0.0</td>\n",
       "      <td>15.0</td>\n",
       "      <td>18.0</td>\n",
       "      <td>17.0</td>\n",
       "      <td>0.70</td>\n",
       "      <td>3.50</td>\n",
       "    </tr>\n",
       "    <tr>\n",
       "      <th>4</th>\n",
       "      <td>0.0</td>\n",
       "      <td>809.0</td>\n",
       "      <td>18.0</td>\n",
       "      <td>22.0</td>\n",
       "      <td>0.70</td>\n",
       "      <td>3.50</td>\n",
       "    </tr>\n",
       "  </tbody>\n",
       "</table>\n",
       "</div>"
      ],
      "text/plain": [
       "   Makers  Bean_Origin  Company_Location  Broad_Bean_Origin  Cocoa_Percentage  \\\n",
       "0     0.0         14.0              18.0               23.0              0.63   \n",
       "1     0.0        492.0              18.0               17.0              0.70   \n",
       "2     0.0         67.0              18.0               17.0              0.70   \n",
       "3     0.0         15.0              18.0               17.0              0.70   \n",
       "4     0.0        809.0              18.0               22.0              0.70   \n",
       "\n",
       "   Rating  \n",
       "0    3.75  \n",
       "1    2.75  \n",
       "2    3.00  \n",
       "3    3.50  \n",
       "4    3.50  "
      ]
     },
<<<<<<< HEAD
     "execution_count": 79,
=======
     "execution_count": 56,
>>>>>>> Test
     "metadata": {},
     "output_type": "execute_result"
    }
   ],
   "source": [
    "result_df.head()"
   ]
  },
  {
   "cell_type": "code",
<<<<<<< HEAD
   "execution_count": 92,
=======
   "execution_count": 57,
>>>>>>> Test
   "metadata": {},
   "outputs": [],
   "source": [
    "from sklearn.preprocessing import PolynomialFeatures\n",
    "from sklearn.impute import SimpleImputer"
   ]
  },
  {
   "cell_type": "code",
<<<<<<< HEAD
   "execution_count": 85,
=======
   "execution_count": 58,
>>>>>>> Test
   "metadata": {},
   "outputs": [],
   "source": [
    "#poly = PolynomialFeatures(degree=2, interaction_only=True, include_bias=False)"
   ]
  },
  {
   "cell_type": "code",
<<<<<<< HEAD
   "execution_count": 90,
   "metadata": {},
   "outputs": [],
   "source": [
    "columns = ['Makers', 'Broad_Bean_Origin', 'Company_Location']"
=======
   "execution_count": 60,
   "metadata": {},
   "outputs": [],
   "source": [
    "columns = ['Makers', 'Broad_Bean_Origin', 'Company_Location', 'Cocoa_Percentage',\t'Rating']"
>>>>>>> Test
   ]
  },
  {
   "cell_type": "code",
<<<<<<< HEAD
   "execution_count": 93,
=======
   "execution_count": 61,
>>>>>>> Test
   "metadata": {},
   "outputs": [],
   "source": [
    "imputer = SimpleImputer(strategy='mean')"
   ]
  },
  {
   "cell_type": "code",
<<<<<<< HEAD
   "execution_count": 94,
=======
   "execution_count": 62,
>>>>>>> Test
   "metadata": {},
   "outputs": [],
   "source": [
    "result_df[columns] = imputer.fit_transform(result_df[columns])"
   ]
  },
  {
   "cell_type": "code",
<<<<<<< HEAD
   "execution_count": 95,
=======
   "execution_count": 63,
>>>>>>> Test
   "metadata": {},
   "outputs": [],
   "source": [
    "poly = PolynomialFeatures()"
   ]
  },
  {
   "cell_type": "code",
<<<<<<< HEAD
   "execution_count": 96,
=======
   "execution_count": 64,
>>>>>>> Test
   "metadata": {},
   "outputs": [],
   "source": [
    "interaction_terms = poly.fit_transform(result_df[columns])"
   ]
  },
  {
   "cell_type": "code",
<<<<<<< HEAD
   "execution_count": 99,
   "metadata": {},
   "outputs": [],
   "source": [
    "interaction_df = pd.DataFrame(interaction_terms, columns=poly.get_feature_names_out(['Makers', 'Broad_Bean_Origin', 'Company_Location']))"
=======
   "execution_count": 65,
   "metadata": {},
   "outputs": [],
   "source": [
    "interaction_df = pd.DataFrame(interaction_terms, columns=poly.get_feature_names_out(['Makers', 'Broad_Bean_Origin', 'Company_Location', 'Cocoa_Percentage',\t'Rating']))"
>>>>>>> Test
   ]
  },
  {
   "cell_type": "code",
<<<<<<< HEAD
   "execution_count": 109,
=======
   "execution_count": 66,
>>>>>>> Test
   "metadata": {},
   "outputs": [
    {
     "data": {
      "text/plain": [
       "Index(['Makers', 'Bean_Origin', 'Company_Location', 'Broad_Bean_Origin',\n",
       "       'Cocoa_Percentage', 'Rating'],\n",
       "      dtype='object')"
      ]
     },
<<<<<<< HEAD
     "execution_count": 109,
=======
     "execution_count": 66,
>>>>>>> Test
     "metadata": {},
     "output_type": "execute_result"
    }
   ],
   "source": [
    "result_df.columns"
   ]
  },
  {
   "cell_type": "code",
<<<<<<< HEAD
   "execution_count": 103,
=======
   "execution_count": 90,
   "metadata": {},
   "outputs": [],
   "source": [
    "result_df=result_df.drop(columns=['Rating'])"
   ]
  },
  {
   "cell_type": "code",
   "execution_count": 91,
>>>>>>> Test
   "metadata": {},
   "outputs": [],
   "source": [
    "df_combined = pd.concat([result_df, interaction_df], axis=1)"
   ]
  },
  {
   "cell_type": "code",
<<<<<<< HEAD
   "execution_count": 104,
=======
   "execution_count": 110,
   "metadata": {},
   "outputs": [
    {
     "data": {
      "text/plain": [
       "Index(['Makers', 'Bean_Origin', 'Company_Location', 'Broad_Bean_Origin',\n",
       "       'Cocoa_Percentage', '1', 'Makers', 'Broad_Bean_Origin',\n",
       "       'Company_Location', 'Cocoa_Percentage', 'Rating', 'Makers^2',\n",
       "       'Makers Broad_Bean_Origin', 'Makers Company_Location',\n",
       "       'Makers Cocoa_Percentage', 'Makers Rating', 'Broad_Bean_Origin^2',\n",
       "       'Broad_Bean_Origin Company_Location',\n",
       "       'Broad_Bean_Origin Cocoa_Percentage', 'Broad_Bean_Origin Rating',\n",
       "       'Company_Location^2', 'Company_Location Cocoa_Percentage',\n",
       "       'Company_Location Rating', 'Cocoa_Percentage^2',\n",
       "       'Cocoa_Percentage Rating', 'Rating^2'],\n",
       "      dtype='object')"
      ]
     },
     "execution_count": 110,
     "metadata": {},
     "output_type": "execute_result"
    }
   ],
   "source": [
    "df_combined.columns"
   ]
  },
  {
   "cell_type": "code",
   "execution_count": 92,
>>>>>>> Test
   "metadata": {},
   "outputs": [
    {
     "name": "stdout",
     "output_type": "stream",
     "text": [
      "          Makers  Bean_Origin  Company_Location  Broad_Bean_Origin  \\\n",
      "0       0.000000         14.0         18.000000          23.000000   \n",
      "1       0.000000        492.0         18.000000          17.000000   \n",
      "2       0.000000         67.0         18.000000          17.000000   \n",
      "3       0.000000         15.0         18.000000          17.000000   \n",
      "4       0.000000        809.0         18.000000          22.000000   \n",
      "...          ...          ...               ...                ...   \n",
      "1790  410.000000        483.0          3.000000          17.000000   \n",
      "1791  410.000000        483.0          3.000000          17.000000   \n",
      "1792  410.000000        137.0          3.000000           2.000000   \n",
      "1793  206.153374          NaN         37.919688          15.555494   \n",
      "1794  206.153374          NaN         37.919688          15.555494   \n",
      "\n",
<<<<<<< HEAD
      "      Cocoa_Percentage  Rating    1      Makers  Broad_Bean_Origin  \\\n",
      "0                 0.63    3.75  1.0    0.000000          23.000000   \n",
      "1                 0.70    2.75  1.0    0.000000          17.000000   \n",
      "2                 0.70    3.00  1.0    0.000000          17.000000   \n",
      "3                 0.70    3.50  1.0    0.000000          17.000000   \n",
      "4                 0.70    3.50  1.0    0.000000          22.000000   \n",
      "...                ...     ...  ...         ...                ...   \n",
      "1790              0.70    3.75  1.0  410.000000          17.000000   \n",
      "1791              0.65    3.00  1.0  410.000000          17.000000   \n",
      "1792              0.65    3.50  1.0  410.000000           2.000000   \n",
      "1793              0.62    3.25  1.0  206.153374          15.555494   \n",
      "1794              0.65    3.00  1.0  206.153374          15.555494   \n",
      "\n",
      "      Company_Location       Makers^2  Makers Broad_Bean_Origin  \\\n",
      "0            18.000000       0.000000                  0.000000   \n",
      "1            18.000000       0.000000                  0.000000   \n",
      "2            18.000000       0.000000                  0.000000   \n",
      "3            18.000000       0.000000                  0.000000   \n",
      "4            18.000000       0.000000                  0.000000   \n",
      "...                ...            ...                       ...   \n",
      "1790          3.000000  168100.000000               6970.000000   \n",
      "1791          3.000000  168100.000000               6970.000000   \n",
      "1792          3.000000  168100.000000                820.000000   \n",
      "1793         37.919688   42499.213708               3206.817491   \n",
      "1794         37.919688   42499.213708               3206.817491   \n",
      "\n",
      "      Makers Company_Location  Broad_Bean_Origin^2  \\\n",
      "0                    0.000000           529.000000   \n",
      "1                    0.000000           289.000000   \n",
      "2                    0.000000           289.000000   \n",
      "3                    0.000000           289.000000   \n",
      "4                    0.000000           484.000000   \n",
      "...                       ...                  ...   \n",
      "1790              1230.000000           289.000000   \n",
      "1791              1230.000000           289.000000   \n",
      "1792              1230.000000             4.000000   \n",
      "1793              7817.271564           241.973381   \n",
      "1794              7817.271564           241.973381   \n",
      "\n",
      "      Broad_Bean_Origin Company_Location  Company_Location^2  \n",
      "0                             414.000000          324.000000  \n",
      "1                             306.000000          324.000000  \n",
      "2                             306.000000          324.000000  \n",
      "3                             306.000000          324.000000  \n",
      "4                             396.000000          324.000000  \n",
      "...                                  ...                 ...  \n",
      "1790                           51.000000            9.000000  \n",
      "1791                           51.000000            9.000000  \n",
      "1792                            6.000000            9.000000  \n",
      "1793                          589.859458         1437.902713  \n",
      "1794                          589.859458         1437.902713  \n",
      "\n",
      "[1795 rows x 16 columns]\n"
=======
      "      Cocoa_Percentage    1      Makers  Broad_Bean_Origin  Company_Location  \\\n",
      "0                 0.63  1.0    0.000000          23.000000         18.000000   \n",
      "1                 0.70  1.0    0.000000          17.000000         18.000000   \n",
      "2                 0.70  1.0    0.000000          17.000000         18.000000   \n",
      "3                 0.70  1.0    0.000000          17.000000         18.000000   \n",
      "4                 0.70  1.0    0.000000          22.000000         18.000000   \n",
      "...                ...  ...         ...                ...               ...   \n",
      "1790              0.70  1.0  410.000000          17.000000          3.000000   \n",
      "1791              0.65  1.0  410.000000          17.000000          3.000000   \n",
      "1792              0.65  1.0  410.000000           2.000000          3.000000   \n",
      "1793              0.62  1.0  206.153374          15.555494         37.919688   \n",
      "1794              0.65  1.0  206.153374          15.555494         37.919688   \n",
      "\n",
      "      Cocoa_Percentage  ...  Broad_Bean_Origin^2  \\\n",
      "0                 0.63  ...           529.000000   \n",
      "1                 0.70  ...           289.000000   \n",
      "2                 0.70  ...           289.000000   \n",
      "3                 0.70  ...           289.000000   \n",
      "4                 0.70  ...           484.000000   \n",
      "...                ...  ...                  ...   \n",
      "1790              0.70  ...           289.000000   \n",
      "1791              0.65  ...           289.000000   \n",
      "1792              0.65  ...             4.000000   \n",
      "1793              0.62  ...           241.973381   \n",
      "1794              0.65  ...           241.973381   \n",
      "\n",
      "      Broad_Bean_Origin Company_Location  Broad_Bean_Origin Cocoa_Percentage  \\\n",
      "0                             414.000000                           14.490000   \n",
      "1                             306.000000                           11.900000   \n",
      "2                             306.000000                           11.900000   \n",
      "3                             306.000000                           11.900000   \n",
      "4                             396.000000                           15.400000   \n",
      "...                                  ...                                 ...   \n",
      "1790                           51.000000                           11.900000   \n",
      "1791                           51.000000                           11.050000   \n",
      "1792                            6.000000                            1.300000   \n",
      "1793                          589.859458                            9.644406   \n",
      "1794                          589.859458                           10.111071   \n",
      "\n",
      "      Broad_Bean_Origin Rating  Company_Location^2  \\\n",
      "0                    86.250000          324.000000   \n",
      "1                    46.750000          324.000000   \n",
      "2                    51.000000          324.000000   \n",
      "3                    59.500000          324.000000   \n",
      "4                    77.000000          324.000000   \n",
      "...                        ...                 ...   \n",
      "1790                 63.750000            9.000000   \n",
      "1791                 51.000000            9.000000   \n",
      "1792                  7.000000            9.000000   \n",
      "1793                 50.555354         1437.902713   \n",
      "1794                 46.666481         1437.902713   \n",
      "\n",
      "      Company_Location Cocoa_Percentage  Company_Location Rating  \\\n",
      "0                             11.340000                67.500000   \n",
      "1                             12.600000                49.500000   \n",
      "2                             12.600000                54.000000   \n",
      "3                             12.600000                63.000000   \n",
      "4                             12.600000                63.000000   \n",
      "...                                 ...                      ...   \n",
      "1790                           2.100000                11.250000   \n",
      "1791                           1.950000                 9.000000   \n",
      "1792                           1.950000                10.500000   \n",
      "1793                          23.510206               123.238985   \n",
      "1794                          24.647797               113.759063   \n",
      "\n",
      "      Cocoa_Percentage^2  Cocoa_Percentage Rating  Rating^2  \n",
      "0                 0.3969                   2.3625   14.0625  \n",
      "1                 0.4900                   1.9250    7.5625  \n",
      "2                 0.4900                   2.1000    9.0000  \n",
      "3                 0.4900                   2.4500   12.2500  \n",
      "4                 0.4900                   2.4500   12.2500  \n",
      "...                  ...                      ...       ...  \n",
      "1790              0.4900                   2.6250   14.0625  \n",
      "1791              0.4225                   1.9500    9.0000  \n",
      "1792              0.4225                   2.2750   12.2500  \n",
      "1793              0.3844                   2.0150   10.5625  \n",
      "1794              0.4225                   1.9500    9.0000  \n",
      "\n",
      "[1795 rows x 26 columns]\n"
>>>>>>> Test
     ]
    }
   ],
   "source": [
    "print(df_combined)"
   ]
  },
  {
   "cell_type": "code",
<<<<<<< HEAD
   "execution_count": 111,
=======
   "execution_count": 93,
>>>>>>> Test
   "metadata": {},
   "outputs": [],
   "source": [
    "df_corr = interaction_df.corr()"
   ]
  },
  {
   "cell_type": "code",
<<<<<<< HEAD
   "execution_count": 112,
=======
   "execution_count": 94,
>>>>>>> Test
   "metadata": {},
   "outputs": [
    {
     "data": {
      "text/plain": [
       "<Axes: >"
      ]
     },
<<<<<<< HEAD
     "execution_count": 112,
=======
     "execution_count": 94,
>>>>>>> Test
     "metadata": {},
     "output_type": "execute_result"
    },
    {
     "data": {
<<<<<<< HEAD
      "image/png": "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",
=======
      "image/png": "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",
>>>>>>> Test
      "text/plain": [
       "<Figure size 1500x2000 with 2 Axes>"
      ]
     },
     "metadata": {},
     "output_type": "display_data"
    }
   ],
   "source": [
<<<<<<< HEAD
    "mask = ~((df_corr > 0.3) | (df_corr< -0.3))\n",
    "plt.figure(figsize=(15,20))\n",
    "sns.heatmap(df_corr, annot=True, cmap='coolwarm', square=True, mask=mask)"
   ]
=======
    "mask = ~((df_corr > 0.1) | (df_corr< -0.1))\n",
    "plt.figure(figsize=(15,20))\n",
    "sns.heatmap(df_corr, annot=True, cmap='coolwarm', square=True, mask=mask)"
   ]
  },
  {
   "cell_type": "code",
   "execution_count": 97,
   "metadata": {},
   "outputs": [
    {
     "data": {
      "text/plain": [
       "Index(['Makers', 'Bean_Origin', 'Company_Location', 'Broad_Bean_Origin',\n",
       "       'Cocoa_Percentage', '1', 'Makers', 'Broad_Bean_Origin',\n",
       "       'Company_Location', 'Cocoa_Percentage', 'Rating', 'Makers^2',\n",
       "       'Makers Broad_Bean_Origin', 'Makers Company_Location',\n",
       "       'Makers Cocoa_Percentage', 'Makers Rating', 'Broad_Bean_Origin^2',\n",
       "       'Broad_Bean_Origin Company_Location',\n",
       "       'Broad_Bean_Origin Cocoa_Percentage', 'Broad_Bean_Origin Rating',\n",
       "       'Company_Location^2', 'Company_Location Cocoa_Percentage',\n",
       "       'Company_Location Rating', 'Cocoa_Percentage^2',\n",
       "       'Cocoa_Percentage Rating', 'Rating^2'],\n",
       "      dtype='object')"
      ]
     },
     "execution_count": 97,
     "metadata": {},
     "output_type": "execute_result"
    }
   ],
   "source": [
    "df_combined.columns"
   ]
  },
  {
   "cell_type": "code",
   "execution_count": 98,
   "metadata": {},
   "outputs": [
    {
     "data": {
      "text/html": [
       "<div>\n",
       "<style scoped>\n",
       "    .dataframe tbody tr th:only-of-type {\n",
       "        vertical-align: middle;\n",
       "    }\n",
       "\n",
       "    .dataframe tbody tr th {\n",
       "        vertical-align: top;\n",
       "    }\n",
       "\n",
       "    .dataframe thead th {\n",
       "        text-align: right;\n",
       "    }\n",
       "</style>\n",
       "<table border=\"1\" class=\"dataframe\">\n",
       "  <thead>\n",
       "    <tr style=\"text-align: right;\">\n",
       "      <th></th>\n",
       "      <th>1</th>\n",
       "      <th>Makers</th>\n",
       "      <th>Broad_Bean_Origin</th>\n",
       "      <th>Company_Location</th>\n",
       "      <th>Cocoa_Percentage</th>\n",
       "      <th>Rating</th>\n",
       "      <th>Makers^2</th>\n",
       "      <th>Makers Broad_Bean_Origin</th>\n",
       "      <th>Makers Company_Location</th>\n",
       "      <th>Makers Cocoa_Percentage</th>\n",
       "      <th>...</th>\n",
       "      <th>Broad_Bean_Origin^2</th>\n",
       "      <th>Broad_Bean_Origin Company_Location</th>\n",
       "      <th>Broad_Bean_Origin Cocoa_Percentage</th>\n",
       "      <th>Broad_Bean_Origin Rating</th>\n",
       "      <th>Company_Location^2</th>\n",
       "      <th>Company_Location Cocoa_Percentage</th>\n",
       "      <th>Company_Location Rating</th>\n",
       "      <th>Cocoa_Percentage^2</th>\n",
       "      <th>Cocoa_Percentage Rating</th>\n",
       "      <th>Rating^2</th>\n",
       "    </tr>\n",
       "  </thead>\n",
       "  <tbody>\n",
       "    <tr>\n",
       "      <th>0</th>\n",
       "      <td>1.0</td>\n",
       "      <td>0.0</td>\n",
       "      <td>23.0</td>\n",
       "      <td>18.0</td>\n",
       "      <td>0.63</td>\n",
       "      <td>3.75</td>\n",
       "      <td>0.0</td>\n",
       "      <td>0.0</td>\n",
       "      <td>0.0</td>\n",
       "      <td>0.0</td>\n",
       "      <td>...</td>\n",
       "      <td>529.0</td>\n",
       "      <td>414.0</td>\n",
       "      <td>14.49</td>\n",
       "      <td>86.25</td>\n",
       "      <td>324.0</td>\n",
       "      <td>11.34</td>\n",
       "      <td>67.5</td>\n",
       "      <td>0.3969</td>\n",
       "      <td>2.3625</td>\n",
       "      <td>14.0625</td>\n",
       "    </tr>\n",
       "    <tr>\n",
       "      <th>1</th>\n",
       "      <td>1.0</td>\n",
       "      <td>0.0</td>\n",
       "      <td>17.0</td>\n",
       "      <td>18.0</td>\n",
       "      <td>0.70</td>\n",
       "      <td>2.75</td>\n",
       "      <td>0.0</td>\n",
       "      <td>0.0</td>\n",
       "      <td>0.0</td>\n",
       "      <td>0.0</td>\n",
       "      <td>...</td>\n",
       "      <td>289.0</td>\n",
       "      <td>306.0</td>\n",
       "      <td>11.90</td>\n",
       "      <td>46.75</td>\n",
       "      <td>324.0</td>\n",
       "      <td>12.60</td>\n",
       "      <td>49.5</td>\n",
       "      <td>0.4900</td>\n",
       "      <td>1.9250</td>\n",
       "      <td>7.5625</td>\n",
       "    </tr>\n",
       "    <tr>\n",
       "      <th>2</th>\n",
       "      <td>1.0</td>\n",
       "      <td>0.0</td>\n",
       "      <td>17.0</td>\n",
       "      <td>18.0</td>\n",
       "      <td>0.70</td>\n",
       "      <td>3.00</td>\n",
       "      <td>0.0</td>\n",
       "      <td>0.0</td>\n",
       "      <td>0.0</td>\n",
       "      <td>0.0</td>\n",
       "      <td>...</td>\n",
       "      <td>289.0</td>\n",
       "      <td>306.0</td>\n",
       "      <td>11.90</td>\n",
       "      <td>51.00</td>\n",
       "      <td>324.0</td>\n",
       "      <td>12.60</td>\n",
       "      <td>54.0</td>\n",
       "      <td>0.4900</td>\n",
       "      <td>2.1000</td>\n",
       "      <td>9.0000</td>\n",
       "    </tr>\n",
       "    <tr>\n",
       "      <th>3</th>\n",
       "      <td>1.0</td>\n",
       "      <td>0.0</td>\n",
       "      <td>17.0</td>\n",
       "      <td>18.0</td>\n",
       "      <td>0.70</td>\n",
       "      <td>3.50</td>\n",
       "      <td>0.0</td>\n",
       "      <td>0.0</td>\n",
       "      <td>0.0</td>\n",
       "      <td>0.0</td>\n",
       "      <td>...</td>\n",
       "      <td>289.0</td>\n",
       "      <td>306.0</td>\n",
       "      <td>11.90</td>\n",
       "      <td>59.50</td>\n",
       "      <td>324.0</td>\n",
       "      <td>12.60</td>\n",
       "      <td>63.0</td>\n",
       "      <td>0.4900</td>\n",
       "      <td>2.4500</td>\n",
       "      <td>12.2500</td>\n",
       "    </tr>\n",
       "    <tr>\n",
       "      <th>4</th>\n",
       "      <td>1.0</td>\n",
       "      <td>0.0</td>\n",
       "      <td>22.0</td>\n",
       "      <td>18.0</td>\n",
       "      <td>0.70</td>\n",
       "      <td>3.50</td>\n",
       "      <td>0.0</td>\n",
       "      <td>0.0</td>\n",
       "      <td>0.0</td>\n",
       "      <td>0.0</td>\n",
       "      <td>...</td>\n",
       "      <td>484.0</td>\n",
       "      <td>396.0</td>\n",
       "      <td>15.40</td>\n",
       "      <td>77.00</td>\n",
       "      <td>324.0</td>\n",
       "      <td>12.60</td>\n",
       "      <td>63.0</td>\n",
       "      <td>0.4900</td>\n",
       "      <td>2.4500</td>\n",
       "      <td>12.2500</td>\n",
       "    </tr>\n",
       "  </tbody>\n",
       "</table>\n",
       "<p>5 rows × 21 columns</p>\n",
       "</div>"
      ],
      "text/plain": [
       "     1  Makers  Broad_Bean_Origin  Company_Location  Cocoa_Percentage  Rating  \\\n",
       "0  1.0     0.0               23.0              18.0              0.63    3.75   \n",
       "1  1.0     0.0               17.0              18.0              0.70    2.75   \n",
       "2  1.0     0.0               17.0              18.0              0.70    3.00   \n",
       "3  1.0     0.0               17.0              18.0              0.70    3.50   \n",
       "4  1.0     0.0               22.0              18.0              0.70    3.50   \n",
       "\n",
       "   Makers^2  Makers Broad_Bean_Origin  Makers Company_Location  \\\n",
       "0       0.0                       0.0                      0.0   \n",
       "1       0.0                       0.0                      0.0   \n",
       "2       0.0                       0.0                      0.0   \n",
       "3       0.0                       0.0                      0.0   \n",
       "4       0.0                       0.0                      0.0   \n",
       "\n",
       "   Makers Cocoa_Percentage  ...  Broad_Bean_Origin^2  \\\n",
       "0                      0.0  ...                529.0   \n",
       "1                      0.0  ...                289.0   \n",
       "2                      0.0  ...                289.0   \n",
       "3                      0.0  ...                289.0   \n",
       "4                      0.0  ...                484.0   \n",
       "\n",
       "   Broad_Bean_Origin Company_Location  Broad_Bean_Origin Cocoa_Percentage  \\\n",
       "0                               414.0                               14.49   \n",
       "1                               306.0                               11.90   \n",
       "2                               306.0                               11.90   \n",
       "3                               306.0                               11.90   \n",
       "4                               396.0                               15.40   \n",
       "\n",
       "   Broad_Bean_Origin Rating  Company_Location^2  \\\n",
       "0                     86.25               324.0   \n",
       "1                     46.75               324.0   \n",
       "2                     51.00               324.0   \n",
       "3                     59.50               324.0   \n",
       "4                     77.00               324.0   \n",
       "\n",
       "   Company_Location Cocoa_Percentage  Company_Location Rating  \\\n",
       "0                              11.34                     67.5   \n",
       "1                              12.60                     49.5   \n",
       "2                              12.60                     54.0   \n",
       "3                              12.60                     63.0   \n",
       "4                              12.60                     63.0   \n",
       "\n",
       "   Cocoa_Percentage^2  Cocoa_Percentage Rating  Rating^2  \n",
       "0              0.3969                   2.3625   14.0625  \n",
       "1              0.4900                   1.9250    7.5625  \n",
       "2              0.4900                   2.1000    9.0000  \n",
       "3              0.4900                   2.4500   12.2500  \n",
       "4              0.4900                   2.4500   12.2500  \n",
       "\n",
       "[5 rows x 21 columns]"
      ]
     },
     "execution_count": 98,
     "metadata": {},
     "output_type": "execute_result"
    }
   ],
   "source": [
    "interaction_df.head()"
   ]
  },
  {
   "cell_type": "code",
   "execution_count": 99,
   "metadata": {},
   "outputs": [
    {
     "data": {
      "text/plain": [
       "Index(['Makers', 'Bean_Origin', 'Company_Location', 'Broad_Bean_Origin',\n",
       "       'Cocoa_Percentage', '1', 'Makers', 'Broad_Bean_Origin',\n",
       "       'Company_Location', 'Cocoa_Percentage', 'Rating', 'Makers^2',\n",
       "       'Makers Broad_Bean_Origin', 'Makers Company_Location',\n",
       "       'Makers Cocoa_Percentage', 'Makers Rating', 'Broad_Bean_Origin^2',\n",
       "       'Broad_Bean_Origin Company_Location',\n",
       "       'Broad_Bean_Origin Cocoa_Percentage', 'Broad_Bean_Origin Rating',\n",
       "       'Company_Location^2', 'Company_Location Cocoa_Percentage',\n",
       "       'Company_Location Rating', 'Cocoa_Percentage^2',\n",
       "       'Cocoa_Percentage Rating', 'Rating^2'],\n",
       "      dtype='object')"
      ]
     },
     "execution_count": 99,
     "metadata": {},
     "output_type": "execute_result"
    }
   ],
   "source": [
    "df_combined.columns"
   ]
  },
  {
   "cell_type": "code",
   "execution_count": 100,
   "metadata": {},
   "outputs": [
    {
     "data": {
      "text/plain": [
       "Makers                                0\n",
       "Bean_Origin                           2\n",
       "Company_Location                      0\n",
       "Broad_Bean_Origin                     0\n",
       "Cocoa_Percentage                      0\n",
       "1                                     0\n",
       "Makers                                0\n",
       "Broad_Bean_Origin                     0\n",
       "Company_Location                      0\n",
       "Cocoa_Percentage                      0\n",
       "Rating                                0\n",
       "Makers^2                              0\n",
       "Makers Broad_Bean_Origin              0\n",
       "Makers Company_Location               0\n",
       "Makers Cocoa_Percentage               0\n",
       "Makers Rating                         0\n",
       "Broad_Bean_Origin^2                   0\n",
       "Broad_Bean_Origin Company_Location    0\n",
       "Broad_Bean_Origin Cocoa_Percentage    0\n",
       "Broad_Bean_Origin Rating              0\n",
       "Company_Location^2                    0\n",
       "Company_Location Cocoa_Percentage     0\n",
       "Company_Location Rating               0\n",
       "Cocoa_Percentage^2                    0\n",
       "Cocoa_Percentage Rating               0\n",
       "Rating^2                              0\n",
       "dtype: int64"
      ]
     },
     "execution_count": 100,
     "metadata": {},
     "output_type": "execute_result"
    }
   ],
   "source": [
    "df_combined.isnull().sum()"
   ]
  },
  {
   "cell_type": "code",
   "execution_count": 101,
   "metadata": {},
   "outputs": [],
   "source": [
    "df_combined=df_combined.dropna()"
   ]
  },
  {
   "cell_type": "code",
   "execution_count": 102,
   "metadata": {},
   "outputs": [
    {
     "data": {
      "text/plain": [
       "Index(['Makers', 'Bean_Origin', 'Company_Location', 'Broad_Bean_Origin',\n",
       "       'Cocoa_Percentage', '1', 'Makers', 'Broad_Bean_Origin',\n",
       "       'Company_Location', 'Cocoa_Percentage', 'Rating', 'Makers^2',\n",
       "       'Makers Broad_Bean_Origin', 'Makers Company_Location',\n",
       "       'Makers Cocoa_Percentage', 'Makers Rating', 'Broad_Bean_Origin^2',\n",
       "       'Broad_Bean_Origin Company_Location',\n",
       "       'Broad_Bean_Origin Cocoa_Percentage', 'Broad_Bean_Origin Rating',\n",
       "       'Company_Location^2', 'Company_Location Cocoa_Percentage',\n",
       "       'Company_Location Rating', 'Cocoa_Percentage^2',\n",
       "       'Cocoa_Percentage Rating', 'Rating^2'],\n",
       "      dtype='object')"
      ]
     },
     "execution_count": 102,
     "metadata": {},
     "output_type": "execute_result"
    }
   ],
   "source": [
    "df_combined.columns"
   ]
  },
  {
   "cell_type": "code",
   "execution_count": 103,
   "metadata": {},
   "outputs": [],
   "source": [
    "#X = df_combined.drop(columns=['Cocoa_Percentage Rating'])\n",
    "X = df_combined[['Cocoa_Percentage', 'Makers Rating', 'Makers Rating', 'Company_Location Rating']]\n",
    "y = df_combined['Rating']"
   ]
  },
  {
   "cell_type": "code",
   "execution_count": 114,
   "metadata": {},
   "outputs": [
    {
     "data": {
      "text/html": [
       "<div>\n",
       "<style scoped>\n",
       "    .dataframe tbody tr th:only-of-type {\n",
       "        vertical-align: middle;\n",
       "    }\n",
       "\n",
       "    .dataframe tbody tr th {\n",
       "        vertical-align: top;\n",
       "    }\n",
       "\n",
       "    .dataframe thead th {\n",
       "        text-align: right;\n",
       "    }\n",
       "</style>\n",
       "<table border=\"1\" class=\"dataframe\">\n",
       "  <thead>\n",
       "    <tr style=\"text-align: right;\">\n",
       "      <th></th>\n",
       "      <th>Cocoa_Percentage</th>\n",
       "      <th>Cocoa_Percentage</th>\n",
       "      <th>Makers Rating</th>\n",
       "      <th>Makers Rating</th>\n",
       "      <th>Company_Location Rating</th>\n",
       "    </tr>\n",
       "  </thead>\n",
       "  <tbody>\n",
       "    <tr>\n",
       "      <th>0</th>\n",
       "      <td>0.63</td>\n",
       "      <td>0.63</td>\n",
       "      <td>0.0</td>\n",
       "      <td>0.0</td>\n",
       "      <td>67.50</td>\n",
       "    </tr>\n",
       "    <tr>\n",
       "      <th>1</th>\n",
       "      <td>0.70</td>\n",
       "      <td>0.70</td>\n",
       "      <td>0.0</td>\n",
       "      <td>0.0</td>\n",
       "      <td>49.50</td>\n",
       "    </tr>\n",
       "    <tr>\n",
       "      <th>2</th>\n",
       "      <td>0.70</td>\n",
       "      <td>0.70</td>\n",
       "      <td>0.0</td>\n",
       "      <td>0.0</td>\n",
       "      <td>54.00</td>\n",
       "    </tr>\n",
       "    <tr>\n",
       "      <th>3</th>\n",
       "      <td>0.70</td>\n",
       "      <td>0.70</td>\n",
       "      <td>0.0</td>\n",
       "      <td>0.0</td>\n",
       "      <td>63.00</td>\n",
       "    </tr>\n",
       "    <tr>\n",
       "      <th>4</th>\n",
       "      <td>0.70</td>\n",
       "      <td>0.70</td>\n",
       "      <td>0.0</td>\n",
       "      <td>0.0</td>\n",
       "      <td>63.00</td>\n",
       "    </tr>\n",
       "    <tr>\n",
       "      <th>...</th>\n",
       "      <td>...</td>\n",
       "      <td>...</td>\n",
       "      <td>...</td>\n",
       "      <td>...</td>\n",
       "      <td>...</td>\n",
       "    </tr>\n",
       "    <tr>\n",
       "      <th>1788</th>\n",
       "      <td>0.68</td>\n",
       "      <td>0.68</td>\n",
       "      <td>1332.5</td>\n",
       "      <td>1332.5</td>\n",
       "      <td>9.75</td>\n",
       "    </tr>\n",
       "    <tr>\n",
       "      <th>1789</th>\n",
       "      <td>0.58</td>\n",
       "      <td>0.58</td>\n",
       "      <td>1435.0</td>\n",
       "      <td>1435.0</td>\n",
       "      <td>10.50</td>\n",
       "    </tr>\n",
       "    <tr>\n",
       "      <th>1790</th>\n",
       "      <td>0.70</td>\n",
       "      <td>0.70</td>\n",
       "      <td>1537.5</td>\n",
       "      <td>1537.5</td>\n",
       "      <td>11.25</td>\n",
       "    </tr>\n",
       "    <tr>\n",
       "      <th>1791</th>\n",
       "      <td>0.65</td>\n",
       "      <td>0.65</td>\n",
       "      <td>1230.0</td>\n",
       "      <td>1230.0</td>\n",
       "      <td>9.00</td>\n",
       "    </tr>\n",
       "    <tr>\n",
       "      <th>1792</th>\n",
       "      <td>0.65</td>\n",
       "      <td>0.65</td>\n",
       "      <td>1435.0</td>\n",
       "      <td>1435.0</td>\n",
       "      <td>10.50</td>\n",
       "    </tr>\n",
       "  </tbody>\n",
       "</table>\n",
       "<p>1793 rows × 5 columns</p>\n",
       "</div>"
      ],
      "text/plain": [
       "      Cocoa_Percentage  Cocoa_Percentage  Makers Rating  Makers Rating  \\\n",
       "0                 0.63              0.63            0.0            0.0   \n",
       "1                 0.70              0.70            0.0            0.0   \n",
       "2                 0.70              0.70            0.0            0.0   \n",
       "3                 0.70              0.70            0.0            0.0   \n",
       "4                 0.70              0.70            0.0            0.0   \n",
       "...                ...               ...            ...            ...   \n",
       "1788              0.68              0.68         1332.5         1332.5   \n",
       "1789              0.58              0.58         1435.0         1435.0   \n",
       "1790              0.70              0.70         1537.5         1537.5   \n",
       "1791              0.65              0.65         1230.0         1230.0   \n",
       "1792              0.65              0.65         1435.0         1435.0   \n",
       "\n",
       "      Company_Location Rating  \n",
       "0                       67.50  \n",
       "1                       49.50  \n",
       "2                       54.00  \n",
       "3                       63.00  \n",
       "4                       63.00  \n",
       "...                       ...  \n",
       "1788                     9.75  \n",
       "1789                    10.50  \n",
       "1790                    11.25  \n",
       "1791                     9.00  \n",
       "1792                    10.50  \n",
       "\n",
       "[1793 rows x 5 columns]"
      ]
     },
     "execution_count": 114,
     "metadata": {},
     "output_type": "execute_result"
    }
   ],
   "source": [
    "X"
   ]
  },
  {
   "cell_type": "code",
   "execution_count": 78,
   "metadata": {},
   "outputs": [],
   "source": [
    "from statsmodels.stats.outliers_influence import variance_inflation_factor"
   ]
  },
  {
   "cell_type": "code",
   "execution_count": 104,
   "metadata": {},
   "outputs": [
    {
     "name": "stderr",
     "output_type": "stream",
     "text": [
      "c:\\Users\\aa1\\AppData\\Local\\Programs\\Python\\Python312\\Lib\\site-packages\\statsmodels\\stats\\outliers_influence.py:197: RuntimeWarning: divide by zero encountered in scalar divide\n",
      "  vif = 1. / (1. - r_squared_i)\n"
     ]
    },
    {
     "data": {
      "text/html": [
       "<div>\n",
       "<style scoped>\n",
       "    .dataframe tbody tr th:only-of-type {\n",
       "        vertical-align: middle;\n",
       "    }\n",
       "\n",
       "    .dataframe tbody tr th {\n",
       "        vertical-align: top;\n",
       "    }\n",
       "\n",
       "    .dataframe thead th {\n",
       "        text-align: right;\n",
       "    }\n",
       "</style>\n",
       "<table border=\"1\" class=\"dataframe\">\n",
       "  <thead>\n",
       "    <tr style=\"text-align: right;\">\n",
       "      <th></th>\n",
       "      <th>feature</th>\n",
       "      <th>VIF</th>\n",
       "    </tr>\n",
       "  </thead>\n",
       "  <tbody>\n",
       "    <tr>\n",
       "      <th>4</th>\n",
       "      <td>Company_Location Rating</td>\n",
       "      <td>3.967793</td>\n",
       "    </tr>\n",
       "  </tbody>\n",
       "</table>\n",
       "</div>"
      ],
      "text/plain": [
       "                   feature       VIF\n",
       "4  Company_Location Rating  3.967793"
      ]
     },
     "execution_count": 104,
     "metadata": {},
     "output_type": "execute_result"
    }
   ],
   "source": [
    "X_imputed = imputer.fit_transform(X)\n",
    "\n",
    "\n",
    "vif_data = pd.DataFrame()\n",
    "vif_data[\"feature\"] = X.columns\n",
    "#vif_data[\"VIF\"] = [variance_inflation_factor(X.values, i) for i in range(len(X.columns))]\n",
    "vif_data[\"VIF\"] = [variance_inflation_factor(X_imputed, i) for i in range(X_imputed.shape[1])]\n",
    "vif_data.loc[vif_data['VIF'] < 10]"
   ]
  },
  {
   "cell_type": "code",
   "execution_count": 80,
   "metadata": {},
   "outputs": [],
   "source": [
    "#df_final= df_combined[['Makers', 'Bean_Origin', 'Company_Location']]"
   ]
  },
  {
   "cell_type": "code",
   "execution_count": 81,
   "metadata": {},
   "outputs": [],
   "source": [
    "#df_final.isnull().sum()"
   ]
  },
  {
   "cell_type": "code",
   "execution_count": 82,
   "metadata": {},
   "outputs": [],
   "source": [
    "#X = df_final\n"
   ]
  },
  {
   "cell_type": "code",
   "execution_count": 105,
   "metadata": {},
   "outputs": [],
   "source": [
    "X_train, X_test, y_train, y_test = train_test_split(X, y, test_size=0.2, random_state=42)"
   ]
  },
  {
   "cell_type": "code",
   "execution_count": 84,
   "metadata": {},
   "outputs": [],
   "source": [
    "l_model = LinearRegression()"
   ]
  },
  {
   "cell_type": "code",
   "execution_count": 111,
   "metadata": {},
   "outputs": [
    {
     "ename": "KeyError",
     "evalue": "\"['Bean_Origin'] not found in axis\"",
     "output_type": "error",
     "traceback": [
      "\u001b[1;31m---------------------------------------------------------------------------\u001b[0m",
      "\u001b[1;31mKeyError\u001b[0m                                  Traceback (most recent call last)",
      "\u001b[1;32m~\\AppData\\Local\\Temp\\ipykernel_27416\\252320697.py\u001b[0m in \u001b[0;36m?\u001b[1;34m()\u001b[0m\n\u001b[1;32m----> 1\u001b[1;33m \u001b[0mX_train\u001b[0m\u001b[1;33m.\u001b[0m\u001b[0mdrop\u001b[0m\u001b[1;33m(\u001b[0m\u001b[0mdf\u001b[0m\u001b[1;33m.\u001b[0m\u001b[0mcolumns\u001b[0m\u001b[1;33m[\u001b[0m\u001b[1;36m1\u001b[0m\u001b[1;33m]\u001b[0m\u001b[1;33m,\u001b[0m \u001b[0maxis\u001b[0m\u001b[1;33m=\u001b[0m\u001b[1;36m1\u001b[0m\u001b[1;33m)\u001b[0m\u001b[1;33m\u001b[0m\u001b[1;33m\u001b[0m\u001b[0m\n\u001b[0m",
      "\u001b[1;32mc:\\Users\\aa1\\AppData\\Local\\Programs\\Python\\Python312\\Lib\\site-packages\\pandas\\core\\frame.py\u001b[0m in \u001b[0;36m?\u001b[1;34m(self, labels, axis, index, columns, level, inplace, errors)\u001b[0m\n\u001b[0;32m   5577\u001b[0m                 \u001b[0mweight\u001b[0m  \u001b[1;36m250.0\u001b[0m   \u001b[1;36m150.0\u001b[0m\u001b[1;33m\u001b[0m\u001b[1;33m\u001b[0m\u001b[0m\n\u001b[0;32m   5578\u001b[0m         \u001b[0mfalcon\u001b[0m  \u001b[0mspeed\u001b[0m   \u001b[1;36m320.0\u001b[0m   \u001b[1;36m250.0\u001b[0m\u001b[1;33m\u001b[0m\u001b[1;33m\u001b[0m\u001b[0m\n\u001b[0;32m   5579\u001b[0m                 \u001b[0mweight\u001b[0m  \u001b[1;36m1.0\u001b[0m     \u001b[1;36m0.8\u001b[0m\u001b[1;33m\u001b[0m\u001b[1;33m\u001b[0m\u001b[0m\n\u001b[0;32m   5580\u001b[0m         \"\"\"\n\u001b[1;32m-> 5581\u001b[1;33m         return super().drop(\n\u001b[0m\u001b[0;32m   5582\u001b[0m             \u001b[0mlabels\u001b[0m\u001b[1;33m=\u001b[0m\u001b[0mlabels\u001b[0m\u001b[1;33m,\u001b[0m\u001b[1;33m\u001b[0m\u001b[1;33m\u001b[0m\u001b[0m\n\u001b[0;32m   5583\u001b[0m             \u001b[0maxis\u001b[0m\u001b[1;33m=\u001b[0m\u001b[0maxis\u001b[0m\u001b[1;33m,\u001b[0m\u001b[1;33m\u001b[0m\u001b[1;33m\u001b[0m\u001b[0m\n\u001b[0;32m   5584\u001b[0m             \u001b[0mindex\u001b[0m\u001b[1;33m=\u001b[0m\u001b[0mindex\u001b[0m\u001b[1;33m,\u001b[0m\u001b[1;33m\u001b[0m\u001b[1;33m\u001b[0m\u001b[0m\n",
      "\u001b[1;32mc:\\Users\\aa1\\AppData\\Local\\Programs\\Python\\Python312\\Lib\\site-packages\\pandas\\core\\generic.py\u001b[0m in \u001b[0;36m?\u001b[1;34m(self, labels, axis, index, columns, level, inplace, errors)\u001b[0m\n\u001b[0;32m   4784\u001b[0m         \u001b[0mobj\u001b[0m \u001b[1;33m=\u001b[0m \u001b[0mself\u001b[0m\u001b[1;33m\u001b[0m\u001b[1;33m\u001b[0m\u001b[0m\n\u001b[0;32m   4785\u001b[0m \u001b[1;33m\u001b[0m\u001b[0m\n\u001b[0;32m   4786\u001b[0m         \u001b[1;32mfor\u001b[0m \u001b[0maxis\u001b[0m\u001b[1;33m,\u001b[0m \u001b[0mlabels\u001b[0m \u001b[1;32min\u001b[0m \u001b[0maxes\u001b[0m\u001b[1;33m.\u001b[0m\u001b[0mitems\u001b[0m\u001b[1;33m(\u001b[0m\u001b[1;33m)\u001b[0m\u001b[1;33m:\u001b[0m\u001b[1;33m\u001b[0m\u001b[1;33m\u001b[0m\u001b[0m\n\u001b[0;32m   4787\u001b[0m             \u001b[1;32mif\u001b[0m \u001b[0mlabels\u001b[0m \u001b[1;32mis\u001b[0m \u001b[1;32mnot\u001b[0m \u001b[1;32mNone\u001b[0m\u001b[1;33m:\u001b[0m\u001b[1;33m\u001b[0m\u001b[1;33m\u001b[0m\u001b[0m\n\u001b[1;32m-> 4788\u001b[1;33m                 \u001b[0mobj\u001b[0m \u001b[1;33m=\u001b[0m \u001b[0mobj\u001b[0m\u001b[1;33m.\u001b[0m\u001b[0m_drop_axis\u001b[0m\u001b[1;33m(\u001b[0m\u001b[0mlabels\u001b[0m\u001b[1;33m,\u001b[0m \u001b[0maxis\u001b[0m\u001b[1;33m,\u001b[0m \u001b[0mlevel\u001b[0m\u001b[1;33m=\u001b[0m\u001b[0mlevel\u001b[0m\u001b[1;33m,\u001b[0m \u001b[0merrors\u001b[0m\u001b[1;33m=\u001b[0m\u001b[0merrors\u001b[0m\u001b[1;33m)\u001b[0m\u001b[1;33m\u001b[0m\u001b[1;33m\u001b[0m\u001b[0m\n\u001b[0m\u001b[0;32m   4789\u001b[0m \u001b[1;33m\u001b[0m\u001b[0m\n\u001b[0;32m   4790\u001b[0m         \u001b[1;32mif\u001b[0m \u001b[0minplace\u001b[0m\u001b[1;33m:\u001b[0m\u001b[1;33m\u001b[0m\u001b[1;33m\u001b[0m\u001b[0m\n\u001b[0;32m   4791\u001b[0m             \u001b[0mself\u001b[0m\u001b[1;33m.\u001b[0m\u001b[0m_update_inplace\u001b[0m\u001b[1;33m(\u001b[0m\u001b[0mobj\u001b[0m\u001b[1;33m)\u001b[0m\u001b[1;33m\u001b[0m\u001b[1;33m\u001b[0m\u001b[0m\n",
      "\u001b[1;32mc:\\Users\\aa1\\AppData\\Local\\Programs\\Python\\Python312\\Lib\\site-packages\\pandas\\core\\generic.py\u001b[0m in \u001b[0;36m?\u001b[1;34m(self, labels, axis, level, errors, only_slice)\u001b[0m\n\u001b[0;32m   4855\u001b[0m                 \u001b[0mmask\u001b[0m \u001b[1;33m=\u001b[0m \u001b[1;33m~\u001b[0m\u001b[0maxis\u001b[0m\u001b[1;33m.\u001b[0m\u001b[0misin\u001b[0m\u001b[1;33m(\u001b[0m\u001b[0mlabels\u001b[0m\u001b[1;33m)\u001b[0m\u001b[1;33m\u001b[0m\u001b[1;33m\u001b[0m\u001b[0m\n\u001b[0;32m   4856\u001b[0m                 \u001b[1;31m# Check if label doesn't exist along axis\u001b[0m\u001b[1;33m\u001b[0m\u001b[1;33m\u001b[0m\u001b[0m\n\u001b[0;32m   4857\u001b[0m                 \u001b[0mlabels_missing\u001b[0m \u001b[1;33m=\u001b[0m \u001b[1;33m(\u001b[0m\u001b[0maxis\u001b[0m\u001b[1;33m.\u001b[0m\u001b[0mget_indexer_for\u001b[0m\u001b[1;33m(\u001b[0m\u001b[0mlabels\u001b[0m\u001b[1;33m)\u001b[0m \u001b[1;33m==\u001b[0m \u001b[1;33m-\u001b[0m\u001b[1;36m1\u001b[0m\u001b[1;33m)\u001b[0m\u001b[1;33m.\u001b[0m\u001b[0many\u001b[0m\u001b[1;33m(\u001b[0m\u001b[1;33m)\u001b[0m\u001b[1;33m\u001b[0m\u001b[1;33m\u001b[0m\u001b[0m\n\u001b[0;32m   4858\u001b[0m                 \u001b[1;32mif\u001b[0m \u001b[0merrors\u001b[0m \u001b[1;33m==\u001b[0m \u001b[1;34m\"raise\"\u001b[0m \u001b[1;32mand\u001b[0m \u001b[0mlabels_missing\u001b[0m\u001b[1;33m:\u001b[0m\u001b[1;33m\u001b[0m\u001b[1;33m\u001b[0m\u001b[0m\n\u001b[1;32m-> 4859\u001b[1;33m                     \u001b[1;32mraise\u001b[0m \u001b[0mKeyError\u001b[0m\u001b[1;33m(\u001b[0m\u001b[1;33mf\"\u001b[0m\u001b[1;33m{\u001b[0m\u001b[0mlabels\u001b[0m\u001b[1;33m}\u001b[0m\u001b[1;33m not found in axis\u001b[0m\u001b[1;33m\"\u001b[0m\u001b[1;33m)\u001b[0m\u001b[1;33m\u001b[0m\u001b[1;33m\u001b[0m\u001b[0m\n\u001b[0m\u001b[0;32m   4860\u001b[0m \u001b[1;33m\u001b[0m\u001b[0m\n\u001b[0;32m   4861\u001b[0m             \u001b[1;32mif\u001b[0m \u001b[0misinstance\u001b[0m\u001b[1;33m(\u001b[0m\u001b[0mmask\u001b[0m\u001b[1;33m.\u001b[0m\u001b[0mdtype\u001b[0m\u001b[1;33m,\u001b[0m \u001b[0mExtensionDtype\u001b[0m\u001b[1;33m)\u001b[0m\u001b[1;33m:\u001b[0m\u001b[1;33m\u001b[0m\u001b[1;33m\u001b[0m\u001b[0m\n\u001b[0;32m   4862\u001b[0m                 \u001b[1;31m# GH#45860\u001b[0m\u001b[1;33m\u001b[0m\u001b[1;33m\u001b[0m\u001b[0m\n",
      "\u001b[1;31mKeyError\u001b[0m: \"['Bean_Origin'] not found in axis\""
     ]
    }
   ],
   "source": [
    "X_train"
   ]
  },
  {
   "cell_type": "code",
   "execution_count": 107,
   "metadata": {},
   "outputs": [
    {
     "data": {
      "text/plain": [
       "1023    3.75\n",
       "1730    2.50\n",
       "1553    3.75\n",
       "1784    3.00\n",
       "175     3.50\n",
       "        ... \n",
       "1130    2.00\n",
       "1294    4.00\n",
       "860     3.75\n",
       "1459    3.00\n",
       "1126    3.50\n",
       "Name: Rating, Length: 1434, dtype: float64"
      ]
     },
     "execution_count": 107,
     "metadata": {},
     "output_type": "execute_result"
    }
   ],
   "source": [
    "y_train"
   ]
  },
  {
   "cell_type": "code",
   "execution_count": 108,
   "metadata": {},
   "outputs": [
    {
     "data": {
      "text/plain": [
       "1233    3.00\n",
       "220     3.75\n",
       "1768    2.75\n",
       "438     3.50\n",
       "1740    3.00\n",
       "        ... \n",
       "1113    3.50\n",
       "1727    3.25\n",
       "1193    3.75\n",
       "1036    3.50\n",
       "964     3.25\n",
       "Name: Rating, Length: 359, dtype: float64"
      ]
     },
     "execution_count": 108,
     "metadata": {},
     "output_type": "execute_result"
    }
   ],
   "source": [
    "y_test"
   ]
  },
  {
   "cell_type": "code",
   "execution_count": null,
   "metadata": {},
   "outputs": [],
   "source": [
    "from sklearn.preprocessing import StandardScaler"
   ]
  },
  {
   "cell_type": "code",
   "execution_count": 109,
   "metadata": {},
   "outputs": [
    {
     "data": {
      "text/plain": [
       "Cocoa_Percentage           0\n",
       "Cocoa_Percentage           0\n",
       "Makers Rating              0\n",
       "Makers Rating              0\n",
       "Company_Location Rating    0\n",
       "dtype: int64"
      ]
     },
     "execution_count": 109,
     "metadata": {},
     "output_type": "execute_result"
    }
   ],
   "source": [
    "X.isnull().sum()"
   ]
  },
  {
   "cell_type": "code",
   "execution_count": null,
   "metadata": {},
   "outputs": [],
   "source": [
    "scaler_y = StandardScaler()\n",
    "y_train_scaled = scaler_y.fit_transform(y_train.values.reshape(-1, 1)).flatten()\n",
    "y_test_scaled = scaler_y.transform(y_test.values.reshape(-1, 1)).flatten()"
   ]
  },
  {
   "cell_type": "code",
   "execution_count": null,
   "metadata": {},
   "outputs": [
    {
     "data": {
      "text/html": [
       "<style>#sk-container-id-3 {\n",
       "  /* Definition of color scheme common for light and dark mode */\n",
       "  --sklearn-color-text: black;\n",
       "  --sklearn-color-line: gray;\n",
       "  /* Definition of color scheme for unfitted estimators */\n",
       "  --sklearn-color-unfitted-level-0: #fff5e6;\n",
       "  --sklearn-color-unfitted-level-1: #f6e4d2;\n",
       "  --sklearn-color-unfitted-level-2: #ffe0b3;\n",
       "  --sklearn-color-unfitted-level-3: chocolate;\n",
       "  /* Definition of color scheme for fitted estimators */\n",
       "  --sklearn-color-fitted-level-0: #f0f8ff;\n",
       "  --sklearn-color-fitted-level-1: #d4ebff;\n",
       "  --sklearn-color-fitted-level-2: #b3dbfd;\n",
       "  --sklearn-color-fitted-level-3: cornflowerblue;\n",
       "\n",
       "  /* Specific color for light theme */\n",
       "  --sklearn-color-text-on-default-background: var(--sg-text-color, var(--theme-code-foreground, var(--jp-content-font-color1, black)));\n",
       "  --sklearn-color-background: var(--sg-background-color, var(--theme-background, var(--jp-layout-color0, white)));\n",
       "  --sklearn-color-border-box: var(--sg-text-color, var(--theme-code-foreground, var(--jp-content-font-color1, black)));\n",
       "  --sklearn-color-icon: #696969;\n",
       "\n",
       "  @media (prefers-color-scheme: dark) {\n",
       "    /* Redefinition of color scheme for dark theme */\n",
       "    --sklearn-color-text-on-default-background: var(--sg-text-color, var(--theme-code-foreground, var(--jp-content-font-color1, white)));\n",
       "    --sklearn-color-background: var(--sg-background-color, var(--theme-background, var(--jp-layout-color0, #111)));\n",
       "    --sklearn-color-border-box: var(--sg-text-color, var(--theme-code-foreground, var(--jp-content-font-color1, white)));\n",
       "    --sklearn-color-icon: #878787;\n",
       "  }\n",
       "}\n",
       "\n",
       "#sk-container-id-3 {\n",
       "  color: var(--sklearn-color-text);\n",
       "}\n",
       "\n",
       "#sk-container-id-3 pre {\n",
       "  padding: 0;\n",
       "}\n",
       "\n",
       "#sk-container-id-3 input.sk-hidden--visually {\n",
       "  border: 0;\n",
       "  clip: rect(1px 1px 1px 1px);\n",
       "  clip: rect(1px, 1px, 1px, 1px);\n",
       "  height: 1px;\n",
       "  margin: -1px;\n",
       "  overflow: hidden;\n",
       "  padding: 0;\n",
       "  position: absolute;\n",
       "  width: 1px;\n",
       "}\n",
       "\n",
       "#sk-container-id-3 div.sk-dashed-wrapped {\n",
       "  border: 1px dashed var(--sklearn-color-line);\n",
       "  margin: 0 0.4em 0.5em 0.4em;\n",
       "  box-sizing: border-box;\n",
       "  padding-bottom: 0.4em;\n",
       "  background-color: var(--sklearn-color-background);\n",
       "}\n",
       "\n",
       "#sk-container-id-3 div.sk-container {\n",
       "  /* jupyter's `normalize.less` sets `[hidden] { display: none; }`\n",
       "     but bootstrap.min.css set `[hidden] { display: none !important; }`\n",
       "     so we also need the `!important` here to be able to override the\n",
       "     default hidden behavior on the sphinx rendered scikit-learn.org.\n",
       "     See: https://github.com/scikit-learn/scikit-learn/issues/21755 */\n",
       "  display: inline-block !important;\n",
       "  position: relative;\n",
       "}\n",
       "\n",
       "#sk-container-id-3 div.sk-text-repr-fallback {\n",
       "  display: none;\n",
       "}\n",
       "\n",
       "div.sk-parallel-item,\n",
       "div.sk-serial,\n",
       "div.sk-item {\n",
       "  /* draw centered vertical line to link estimators */\n",
       "  background-image: linear-gradient(var(--sklearn-color-text-on-default-background), var(--sklearn-color-text-on-default-background));\n",
       "  background-size: 2px 100%;\n",
       "  background-repeat: no-repeat;\n",
       "  background-position: center center;\n",
       "}\n",
       "\n",
       "/* Parallel-specific style estimator block */\n",
       "\n",
       "#sk-container-id-3 div.sk-parallel-item::after {\n",
       "  content: \"\";\n",
       "  width: 100%;\n",
       "  border-bottom: 2px solid var(--sklearn-color-text-on-default-background);\n",
       "  flex-grow: 1;\n",
       "}\n",
       "\n",
       "#sk-container-id-3 div.sk-parallel {\n",
       "  display: flex;\n",
       "  align-items: stretch;\n",
       "  justify-content: center;\n",
       "  background-color: var(--sklearn-color-background);\n",
       "  position: relative;\n",
       "}\n",
       "\n",
       "#sk-container-id-3 div.sk-parallel-item {\n",
       "  display: flex;\n",
       "  flex-direction: column;\n",
       "}\n",
       "\n",
       "#sk-container-id-3 div.sk-parallel-item:first-child::after {\n",
       "  align-self: flex-end;\n",
       "  width: 50%;\n",
       "}\n",
       "\n",
       "#sk-container-id-3 div.sk-parallel-item:last-child::after {\n",
       "  align-self: flex-start;\n",
       "  width: 50%;\n",
       "}\n",
       "\n",
       "#sk-container-id-3 div.sk-parallel-item:only-child::after {\n",
       "  width: 0;\n",
       "}\n",
       "\n",
       "/* Serial-specific style estimator block */\n",
       "\n",
       "#sk-container-id-3 div.sk-serial {\n",
       "  display: flex;\n",
       "  flex-direction: column;\n",
       "  align-items: center;\n",
       "  background-color: var(--sklearn-color-background);\n",
       "  padding-right: 1em;\n",
       "  padding-left: 1em;\n",
       "}\n",
       "\n",
       "\n",
       "/* Toggleable style: style used for estimator/Pipeline/ColumnTransformer box that is\n",
       "clickable and can be expanded/collapsed.\n",
       "- Pipeline and ColumnTransformer use this feature and define the default style\n",
       "- Estimators will overwrite some part of the style using the `sk-estimator` class\n",
       "*/\n",
       "\n",
       "/* Pipeline and ColumnTransformer style (default) */\n",
       "\n",
       "#sk-container-id-3 div.sk-toggleable {\n",
       "  /* Default theme specific background. It is overwritten whether we have a\n",
       "  specific estimator or a Pipeline/ColumnTransformer */\n",
       "  background-color: var(--sklearn-color-background);\n",
       "}\n",
       "\n",
       "/* Toggleable label */\n",
       "#sk-container-id-3 label.sk-toggleable__label {\n",
       "  cursor: pointer;\n",
       "  display: block;\n",
       "  width: 100%;\n",
       "  margin-bottom: 0;\n",
       "  padding: 0.5em;\n",
       "  box-sizing: border-box;\n",
       "  text-align: center;\n",
       "}\n",
       "\n",
       "#sk-container-id-3 label.sk-toggleable__label-arrow:before {\n",
       "  /* Arrow on the left of the label */\n",
       "  content: \"▸\";\n",
       "  float: left;\n",
       "  margin-right: 0.25em;\n",
       "  color: var(--sklearn-color-icon);\n",
       "}\n",
       "\n",
       "#sk-container-id-3 label.sk-toggleable__label-arrow:hover:before {\n",
       "  color: var(--sklearn-color-text);\n",
       "}\n",
       "\n",
       "/* Toggleable content - dropdown */\n",
       "\n",
       "#sk-container-id-3 div.sk-toggleable__content {\n",
       "  max-height: 0;\n",
       "  max-width: 0;\n",
       "  overflow: hidden;\n",
       "  text-align: left;\n",
       "  /* unfitted */\n",
       "  background-color: var(--sklearn-color-unfitted-level-0);\n",
       "}\n",
       "\n",
       "#sk-container-id-3 div.sk-toggleable__content.fitted {\n",
       "  /* fitted */\n",
       "  background-color: var(--sklearn-color-fitted-level-0);\n",
       "}\n",
       "\n",
       "#sk-container-id-3 div.sk-toggleable__content pre {\n",
       "  margin: 0.2em;\n",
       "  border-radius: 0.25em;\n",
       "  color: var(--sklearn-color-text);\n",
       "  /* unfitted */\n",
       "  background-color: var(--sklearn-color-unfitted-level-0);\n",
       "}\n",
       "\n",
       "#sk-container-id-3 div.sk-toggleable__content.fitted pre {\n",
       "  /* unfitted */\n",
       "  background-color: var(--sklearn-color-fitted-level-0);\n",
       "}\n",
       "\n",
       "#sk-container-id-3 input.sk-toggleable__control:checked~div.sk-toggleable__content {\n",
       "  /* Expand drop-down */\n",
       "  max-height: 200px;\n",
       "  max-width: 100%;\n",
       "  overflow: auto;\n",
       "}\n",
       "\n",
       "#sk-container-id-3 input.sk-toggleable__control:checked~label.sk-toggleable__label-arrow:before {\n",
       "  content: \"▾\";\n",
       "}\n",
       "\n",
       "/* Pipeline/ColumnTransformer-specific style */\n",
       "\n",
       "#sk-container-id-3 div.sk-label input.sk-toggleable__control:checked~label.sk-toggleable__label {\n",
       "  color: var(--sklearn-color-text);\n",
       "  background-color: var(--sklearn-color-unfitted-level-2);\n",
       "}\n",
       "\n",
       "#sk-container-id-3 div.sk-label.fitted input.sk-toggleable__control:checked~label.sk-toggleable__label {\n",
       "  background-color: var(--sklearn-color-fitted-level-2);\n",
       "}\n",
       "\n",
       "/* Estimator-specific style */\n",
       "\n",
       "/* Colorize estimator box */\n",
       "#sk-container-id-3 div.sk-estimator input.sk-toggleable__control:checked~label.sk-toggleable__label {\n",
       "  /* unfitted */\n",
       "  background-color: var(--sklearn-color-unfitted-level-2);\n",
       "}\n",
       "\n",
       "#sk-container-id-3 div.sk-estimator.fitted input.sk-toggleable__control:checked~label.sk-toggleable__label {\n",
       "  /* fitted */\n",
       "  background-color: var(--sklearn-color-fitted-level-2);\n",
       "}\n",
       "\n",
       "#sk-container-id-3 div.sk-label label.sk-toggleable__label,\n",
       "#sk-container-id-3 div.sk-label label {\n",
       "  /* The background is the default theme color */\n",
       "  color: var(--sklearn-color-text-on-default-background);\n",
       "}\n",
       "\n",
       "/* On hover, darken the color of the background */\n",
       "#sk-container-id-3 div.sk-label:hover label.sk-toggleable__label {\n",
       "  color: var(--sklearn-color-text);\n",
       "  background-color: var(--sklearn-color-unfitted-level-2);\n",
       "}\n",
       "\n",
       "/* Label box, darken color on hover, fitted */\n",
       "#sk-container-id-3 div.sk-label.fitted:hover label.sk-toggleable__label.fitted {\n",
       "  color: var(--sklearn-color-text);\n",
       "  background-color: var(--sklearn-color-fitted-level-2);\n",
       "}\n",
       "\n",
       "/* Estimator label */\n",
       "\n",
       "#sk-container-id-3 div.sk-label label {\n",
       "  font-family: monospace;\n",
       "  font-weight: bold;\n",
       "  display: inline-block;\n",
       "  line-height: 1.2em;\n",
       "}\n",
       "\n",
       "#sk-container-id-3 div.sk-label-container {\n",
       "  text-align: center;\n",
       "}\n",
       "\n",
       "/* Estimator-specific */\n",
       "#sk-container-id-3 div.sk-estimator {\n",
       "  font-family: monospace;\n",
       "  border: 1px dotted var(--sklearn-color-border-box);\n",
       "  border-radius: 0.25em;\n",
       "  box-sizing: border-box;\n",
       "  margin-bottom: 0.5em;\n",
       "  /* unfitted */\n",
       "  background-color: var(--sklearn-color-unfitted-level-0);\n",
       "}\n",
       "\n",
       "#sk-container-id-3 div.sk-estimator.fitted {\n",
       "  /* fitted */\n",
       "  background-color: var(--sklearn-color-fitted-level-0);\n",
       "}\n",
       "\n",
       "/* on hover */\n",
       "#sk-container-id-3 div.sk-estimator:hover {\n",
       "  /* unfitted */\n",
       "  background-color: var(--sklearn-color-unfitted-level-2);\n",
       "}\n",
       "\n",
       "#sk-container-id-3 div.sk-estimator.fitted:hover {\n",
       "  /* fitted */\n",
       "  background-color: var(--sklearn-color-fitted-level-2);\n",
       "}\n",
       "\n",
       "/* Specification for estimator info (e.g. \"i\" and \"?\") */\n",
       "\n",
       "/* Common style for \"i\" and \"?\" */\n",
       "\n",
       ".sk-estimator-doc-link,\n",
       "a:link.sk-estimator-doc-link,\n",
       "a:visited.sk-estimator-doc-link {\n",
       "  float: right;\n",
       "  font-size: smaller;\n",
       "  line-height: 1em;\n",
       "  font-family: monospace;\n",
       "  background-color: var(--sklearn-color-background);\n",
       "  border-radius: 1em;\n",
       "  height: 1em;\n",
       "  width: 1em;\n",
       "  text-decoration: none !important;\n",
       "  margin-left: 1ex;\n",
       "  /* unfitted */\n",
       "  border: var(--sklearn-color-unfitted-level-1) 1pt solid;\n",
       "  color: var(--sklearn-color-unfitted-level-1);\n",
       "}\n",
       "\n",
       ".sk-estimator-doc-link.fitted,\n",
       "a:link.sk-estimator-doc-link.fitted,\n",
       "a:visited.sk-estimator-doc-link.fitted {\n",
       "  /* fitted */\n",
       "  border: var(--sklearn-color-fitted-level-1) 1pt solid;\n",
       "  color: var(--sklearn-color-fitted-level-1);\n",
       "}\n",
       "\n",
       "/* On hover */\n",
       "div.sk-estimator:hover .sk-estimator-doc-link:hover,\n",
       ".sk-estimator-doc-link:hover,\n",
       "div.sk-label-container:hover .sk-estimator-doc-link:hover,\n",
       ".sk-estimator-doc-link:hover {\n",
       "  /* unfitted */\n",
       "  background-color: var(--sklearn-color-unfitted-level-3);\n",
       "  color: var(--sklearn-color-background);\n",
       "  text-decoration: none;\n",
       "}\n",
       "\n",
       "div.sk-estimator.fitted:hover .sk-estimator-doc-link.fitted:hover,\n",
       ".sk-estimator-doc-link.fitted:hover,\n",
       "div.sk-label-container:hover .sk-estimator-doc-link.fitted:hover,\n",
       ".sk-estimator-doc-link.fitted:hover {\n",
       "  /* fitted */\n",
       "  background-color: var(--sklearn-color-fitted-level-3);\n",
       "  color: var(--sklearn-color-background);\n",
       "  text-decoration: none;\n",
       "}\n",
       "\n",
       "/* Span, style for the box shown on hovering the info icon */\n",
       ".sk-estimator-doc-link span {\n",
       "  display: none;\n",
       "  z-index: 9999;\n",
       "  position: relative;\n",
       "  font-weight: normal;\n",
       "  right: .2ex;\n",
       "  padding: .5ex;\n",
       "  margin: .5ex;\n",
       "  width: min-content;\n",
       "  min-width: 20ex;\n",
       "  max-width: 50ex;\n",
       "  color: var(--sklearn-color-text);\n",
       "  box-shadow: 2pt 2pt 4pt #999;\n",
       "  /* unfitted */\n",
       "  background: var(--sklearn-color-unfitted-level-0);\n",
       "  border: .5pt solid var(--sklearn-color-unfitted-level-3);\n",
       "}\n",
       "\n",
       ".sk-estimator-doc-link.fitted span {\n",
       "  /* fitted */\n",
       "  background: var(--sklearn-color-fitted-level-0);\n",
       "  border: var(--sklearn-color-fitted-level-3);\n",
       "}\n",
       "\n",
       ".sk-estimator-doc-link:hover span {\n",
       "  display: block;\n",
       "}\n",
       "\n",
       "/* \"?\"-specific style due to the `<a>` HTML tag */\n",
       "\n",
       "#sk-container-id-3 a.estimator_doc_link {\n",
       "  float: right;\n",
       "  font-size: 1rem;\n",
       "  line-height: 1em;\n",
       "  font-family: monospace;\n",
       "  background-color: var(--sklearn-color-background);\n",
       "  border-radius: 1rem;\n",
       "  height: 1rem;\n",
       "  width: 1rem;\n",
       "  text-decoration: none;\n",
       "  /* unfitted */\n",
       "  color: var(--sklearn-color-unfitted-level-1);\n",
       "  border: var(--sklearn-color-unfitted-level-1) 1pt solid;\n",
       "}\n",
       "\n",
       "#sk-container-id-3 a.estimator_doc_link.fitted {\n",
       "  /* fitted */\n",
       "  border: var(--sklearn-color-fitted-level-1) 1pt solid;\n",
       "  color: var(--sklearn-color-fitted-level-1);\n",
       "}\n",
       "\n",
       "/* On hover */\n",
       "#sk-container-id-3 a.estimator_doc_link:hover {\n",
       "  /* unfitted */\n",
       "  background-color: var(--sklearn-color-unfitted-level-3);\n",
       "  color: var(--sklearn-color-background);\n",
       "  text-decoration: none;\n",
       "}\n",
       "\n",
       "#sk-container-id-3 a.estimator_doc_link.fitted:hover {\n",
       "  /* fitted */\n",
       "  background-color: var(--sklearn-color-fitted-level-3);\n",
       "}\n",
       "</style><div id=\"sk-container-id-3\" class=\"sk-top-container\"><div class=\"sk-text-repr-fallback\"><pre>LinearRegression()</pre><b>In a Jupyter environment, please rerun this cell to show the HTML representation or trust the notebook. <br />On GitHub, the HTML representation is unable to render, please try loading this page with nbviewer.org.</b></div><div class=\"sk-container\" hidden><div class=\"sk-item\"><div class=\"sk-estimator fitted sk-toggleable\"><input class=\"sk-toggleable__control sk-hidden--visually\" id=\"sk-estimator-id-3\" type=\"checkbox\" checked><label for=\"sk-estimator-id-3\" class=\"sk-toggleable__label fitted sk-toggleable__label-arrow fitted\">&nbsp;&nbsp;LinearRegression<a class=\"sk-estimator-doc-link fitted\" rel=\"noreferrer\" target=\"_blank\" href=\"https://scikit-learn.org/1.5/modules/generated/sklearn.linear_model.LinearRegression.html\">?<span>Documentation for LinearRegression</span></a><span class=\"sk-estimator-doc-link fitted\">i<span>Fitted</span></span></label><div class=\"sk-toggleable__content fitted\"><pre>LinearRegression()</pre></div> </div></div></div></div>"
      ],
      "text/plain": [
       "LinearRegression()"
      ]
     },
     "execution_count": 208,
     "metadata": {},
     "output_type": "execute_result"
    }
   ],
   "source": [
    "l_model.fit(X_train, y_train)"
   ]
  },
  {
   "cell_type": "code",
   "execution_count": null,
   "metadata": {},
   "outputs": [],
   "source": [
    "lr_y_pred = l_model.predict(X_test)"
   ]
  },
  {
   "cell_type": "code",
   "execution_count": null,
   "metadata": {},
   "outputs": [],
   "source": [
    "lr_mse = mean_squared_error(y_test, lr_y_pred)\n",
    "lr_rmse = (mean_squared_error(y_test, lr_y_pred))**0.5\n",
    "lr_r2 = r2_score(y_test, lr_y_pred)"
   ]
  },
  {
   "cell_type": "code",
   "execution_count": null,
   "metadata": {},
   "outputs": [
    {
     "name": "stdout",
     "output_type": "stream",
     "text": [
      "Mean Squared Error: 0.14417103352791508\n",
      "Root Mean Squared Error: 0.3796986088042924\n",
      "R2 Score: 0.004403333077926952\n"
     ]
    }
   ],
   "source": [
    "print(f'Mean Squared Error: {lr_mse}')\n",
    "print(f'Root Mean Squared Error: {lr_rmse}')\n",
    "print(f'R2 Score: {lr_r2}')"
   ]
>>>>>>> Test
  }
 ],
 "metadata": {
  "kernelspec": {
   "display_name": "Python 3",
   "language": "python",
   "name": "python3"
  },
  "language_info": {
   "codemirror_mode": {
    "name": "ipython",
    "version": 3
   },
   "file_extension": ".py",
   "mimetype": "text/x-python",
   "name": "python",
   "nbconvert_exporter": "python",
   "pygments_lexer": "ipython3",
   "version": "3.12.2"
  }
 },
 "nbformat": 4,
 "nbformat_minor": 2
}
